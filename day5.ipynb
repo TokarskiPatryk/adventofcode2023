{
 "cells": [
  {
   "cell_type": "markdown",
   "metadata": {},
   "source": [
    "# Part 1"
   ]
  },
  {
   "cell_type": "code",
   "execution_count": 1,
   "metadata": {},
   "outputs": [],
   "source": [
    "import pandas as pd\n",
    "import numpy as np"
   ]
  },
  {
   "cell_type": "code",
   "execution_count": 110,
   "metadata": {},
   "outputs": [
    {
     "name": "stdout",
     "output_type": "stream",
     "text": [
      "seeds: 79 14 55 13\n",
      "\n",
      "seed-to-soil map:\n",
      "50 98 2\n",
      "52 50 48\n",
      "\n",
      "soil-to-fertilizer map:\n",
      "0 15 37\n",
      "37 52 2\n",
      "39 0 15\n",
      "\n",
      "fertilizer-to-water map:\n",
      "49 53 8\n",
      "0 11 42\n",
      "42 0 7\n",
      "57 7 4\n",
      "\n",
      "water-to-light map:\n",
      "88 18 7\n",
      "18 25 70\n",
      "\n",
      "light-to-temperature map:\n",
      "45 77 23\n",
      "81 45 19\n",
      "68 64 13\n",
      "\n",
      "temperature-to-humidity map:\n",
      "0 69 1\n",
      "1 0 69\n",
      "\n",
      "humidity-to-location map:\n",
      "60 56 37\n",
      "56 93 4\n"
     ]
    }
   ],
   "source": [
    "with open(\"input/test.txt\", \"r\") as file:\n",
    "    contents = file.read()\n",
    "    \n",
    "print(contents)\n"
   ]
  },
  {
   "cell_type": "code",
   "execution_count": 111,
   "metadata": {},
   "outputs": [],
   "source": [
    "contents = contents.split(\"\\n\\n\")"
   ]
  },
  {
   "cell_type": "code",
   "execution_count": 112,
   "metadata": {},
   "outputs": [],
   "source": [
    "seed_list = contents[0].split(\" \")[1:]\n"
   ]
  },
  {
   "cell_type": "code",
   "execution_count": 113,
   "metadata": {},
   "outputs": [],
   "source": [
    "seed_list = [int(seed) for seed in seed_list]"
   ]
  },
  {
   "cell_type": "code",
   "execution_count": null,
   "metadata": {},
   "outputs": [],
   "source": []
  },
  {
   "cell_type": "code",
   "execution_count": 114,
   "metadata": {},
   "outputs": [
    {
     "data": {
      "text/plain": [
       "['50 98 2', '52 50 48']"
      ]
     },
     "execution_count": 114,
     "metadata": {},
     "output_type": "execute_result"
    }
   ],
   "source": [
    "i = 0\n",
    "wiersz = contents[1:][i].split(\"\\n\")[1:]\n",
    "wiersz"
   ]
  },
  {
   "cell_type": "code",
   "execution_count": 115,
   "metadata": {},
   "outputs": [
    {
     "data": {
      "text/html": [
       "<div>\n",
       "<style scoped>\n",
       "    .dataframe tbody tr th:only-of-type {\n",
       "        vertical-align: middle;\n",
       "    }\n",
       "\n",
       "    .dataframe tbody tr th {\n",
       "        vertical-align: top;\n",
       "    }\n",
       "\n",
       "    .dataframe thead th {\n",
       "        text-align: right;\n",
       "    }\n",
       "</style>\n",
       "<table border=\"1\" class=\"dataframe\">\n",
       "  <thead>\n",
       "    <tr style=\"text-align: right;\">\n",
       "      <th></th>\n",
       "      <th>range-start</th>\n",
       "      <th>source-range-start</th>\n",
       "      <th>length</th>\n",
       "    </tr>\n",
       "  </thead>\n",
       "  <tbody>\n",
       "    <tr>\n",
       "      <th>0</th>\n",
       "      <td>50</td>\n",
       "      <td>98</td>\n",
       "      <td>2</td>\n",
       "    </tr>\n",
       "    <tr>\n",
       "      <th>1</th>\n",
       "      <td>52</td>\n",
       "      <td>50</td>\n",
       "      <td>48</td>\n",
       "    </tr>\n",
       "  </tbody>\n",
       "</table>\n",
       "</div>"
      ],
      "text/plain": [
       "   range-start  source-range-start  length\n",
       "0           50                  98       2\n",
       "1           52                  50      48"
      ]
     },
     "execution_count": 115,
     "metadata": {},
     "output_type": "execute_result"
    }
   ],
   "source": [
    "def df_from_wiersz(wiersz):\n",
    "    df = pd.DataFrame([s.split(\" \") for s in wiersz], \n",
    "                      columns=[\"range-start\",\"source-range-start\", \"length\"])\n",
    "    df['range-start'] = df['range-start'].astype('int64')\n",
    "    df['source-range-start'] = df['source-range-start'].astype('int64')\n",
    "    df['length'] = df['length'].astype('int64')\n",
    "    return df\n",
    "\n",
    "test_wiersz = ['50 98 2', '52 50 48']\n",
    "df_from_wiersz(test_wiersz) == pd.DataFrame([['50', '98', '2'], ['52', '50', '48']], \n",
    "                                            columns=[\"range-start\",\"source-range-start\", \"length\"])\n",
    "df_from_wiersz(test_wiersz)"
   ]
  },
  {
   "cell_type": "code",
   "execution_count": 116,
   "metadata": {},
   "outputs": [],
   "source": [
    "seed = 79\n",
    "# calculate seed \n",
    "df = df_from_wiersz(test_wiersz)\n",
    "\n",
    "def calculate_new_seed_from_map(seed, mapka):\n",
    "    # if seed w danym wierszu, zamien wartosc seed na nowa, odpowiednio przesunieta\n",
    "    for index, wiersz in mapka.iterrows():\n",
    "        if seed >= wiersz['source-range-start'] and seed <= wiersz['source-range-start'] + wiersz['length']:\n",
    "            #print('prawidlowy wiersz: ', wiersz)\n",
    "            przesunac_wartosc_jesli_w_zakresie = wiersz['range-start']-wiersz['source-range-start']\n",
    "            nowa_wartosc = seed + przesunac_wartosc_jesli_w_zakresie\n",
    "            #print('nowa_wartość: ', nowa_wartosc)\n",
    "            return nowa_wartosc\n",
    "        else:\n",
    "            pass\n",
    "    # gdy nie ma w zadnym zbiorze, zwroc seed\n",
    "    return seed\n",
    "\n"
   ]
  },
  {
   "cell_type": "code",
   "execution_count": 117,
   "metadata": {},
   "outputs": [
    {
     "data": {
      "text/plain": [
       "81"
      ]
     },
     "execution_count": 117,
     "metadata": {},
     "output_type": "execute_result"
    }
   ],
   "source": [
    "calculate_new_seed_from_map(seed, df)"
   ]
  },
  {
   "cell_type": "code",
   "execution_count": 118,
   "metadata": {},
   "outputs": [
    {
     "data": {
      "text/plain": [
       "35"
      ]
     },
     "execution_count": 118,
     "metadata": {},
     "output_type": "execute_result"
    }
   ],
   "source": [
    "ile_map = len(contents)-1\n",
    "\n",
    "final = []\n",
    "for seed in seed_list:\n",
    "    for i in range(ile_map):\n",
    "        wiersz = contents[1:][i].split(\"\\n\")[1:]\n",
    "        df = df_from_wiersz(wiersz)\n",
    "        seed = calculate_new_seed_from_map(seed, df)\n",
    "        #print(seed)\n",
    "    final.append(seed)\n",
    "min(final)"
   ]
  },
  {
   "cell_type": "markdown",
   "metadata": {},
   "source": [
    "min to 484023871 xD"
   ]
  },
  {
   "cell_type": "markdown",
   "metadata": {},
   "source": [
    "# PART 2"
   ]
  },
  {
   "cell_type": "code",
   "execution_count": 96,
   "metadata": {},
   "outputs": [
    {
     "name": "stdout",
     "output_type": "stream",
     "text": [
      "[79, 14, 55, 13]\n",
      "1.0  para start\n",
      "2.0  para start\n"
     ]
    },
    {
     "data": {
      "text/plain": [
       "46"
      ]
     },
     "execution_count": 96,
     "metadata": {},
     "output_type": "execute_result"
    }
   ],
   "source": [
    "#######\n",
    "print(seed_list)\n",
    "final = float('inf')  # Initialize final with positive infinity\n",
    "for i in range(0, len(seed_list), 2):\n",
    "    print(i/2+1,' para start')\n",
    "    start = seed_list[i]\n",
    "    length = seed_list[i+1]\n",
    "    for seed in range(start, start+length):\n",
    "        for j in range(ile_map):\n",
    "            wiersz = contents[1:][j].split(\"\\n\")[1:]\n",
    "            df = df_from_wiersz(wiersz)\n",
    "            seed = calculate_new_seed_from_map(seed, df)\n",
    "        final = min(final, seed)  # Update final with the minimum seed value\n",
    "final"
   ]
  },
  {
   "cell_type": "markdown",
   "metadata": {},
   "source": [
    "najdluzej schodzi ze sprawdzeniem tych wsyzstkich liczb"
   ]
  },
  {
   "cell_type": "code",
   "execution_count": null,
   "metadata": {},
   "outputs": [],
   "source": []
  }
 ],
 "metadata": {
  "kernelspec": {
   "display_name": "base",
   "language": "python",
   "name": "python3"
  },
  "language_info": {
   "codemirror_mode": {
    "name": "ipython",
    "version": 3
   },
   "file_extension": ".py",
   "mimetype": "text/x-python",
   "name": "python",
   "nbconvert_exporter": "python",
   "pygments_lexer": "ipython3",
   "version": "3.11.5"
  }
 },
 "nbformat": 4,
 "nbformat_minor": 2
}
