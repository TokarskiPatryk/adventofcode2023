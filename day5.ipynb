{
 "cells": [
  {
   "cell_type": "markdown",
   "metadata": {},
   "source": [
    "# Part 1"
   ]
  },
  {
   "cell_type": "code",
   "execution_count": 1,
   "metadata": {},
   "outputs": [],
   "source": [
    "import pandas as pd\n",
    "import numpy as np"
   ]
  },
  {
   "cell_type": "code",
   "execution_count": 171,
   "metadata": {},
   "outputs": [
    {
     "name": "stdout",
     "output_type": "stream",
     "text": [
      "seeds: 2276375722 160148132 3424292843 82110297 1692203766 342813967 3289792522 103516087 2590548294 590357761 1365412380 80084180 3574751516 584781136 4207087048 36194356 1515742281 174009980 6434225 291842774\n",
      "\n",
      "seed-to-soil map:\n",
      "4170452318 3837406401 124514978\n",
      "2212408060 1593776674 105988696\n",
      "3837406401 4016132523 278834773\n",
      "1475766470 1699765370 492158296\n",
      "3698488336 1475766470 118010204\n",
      "2318396756 2191923666 46351359\n",
      "4116241174 3961921379 54211144\n",
      "2193579298 3791037069 18828762\n",
      "2364748115 2578360543 354997036\n",
      "3085506703 3439828590 106510622\n",
      "1967924766 3546339212 219021823\n",
      "2719745151 3765361035 25676034\n",
      "2745421185 2238275025 340085518\n",
      "2186946589 3809865831 6632709\n",
      "3192017325 2933357579 506471011\n",
      "\n",
      "soil-to-fertilizer map:\n",
      "2067774073 3521970321 52706909\n",
      "3338663639 285713733 377282283\n",
      "4175452431 2125409520 119514865\n",
      "3950920796 1900877885 224531635\n",
      "285713733 3604616580 690350716\n",
      "976064449 3368036703 153933618\n",
      "2120480982 662996016 210956413\n",
      "2763248642 1355402238 545475647\n",
      "3715945922 873952429 49638562\n",
      "3765584484 3182700391 185336312\n",
      "2331437395 923590991 431811247\n",
      "1129998067 2244924385 937776006\n",
      "3308724289 3574677230 29939350\n",
      "\n",
      "fertilizer-to-water map:\n",
      "1898912715 0 159034880\n",
      "0 781591504 125461131\n",
      "4234890433 2427770485 8749678\n",
      "176481534 1845116986 384152450\n",
      "822014814 539693831 241897673\n",
      "125461131 907052635 47763268\n",
      "1476125220 244008638 19613711\n",
      "3828547378 4170474998 124492298\n",
      "2643114268 2457193301 126243103\n",
      "173224399 2229269436 3257135\n",
      "2916187764 3376015556 236473226\n",
      "764735505 186729329 57279309\n",
      "2427770485 3802085897 160735547\n",
      "2895514626 2436520163 20673138\n",
      "3152660990 2671736916 584987016\n",
      "1495738931 1131222975 403173784\n",
      "1339983969 1534396759 136141251\n",
      "2588506032 3612488782 54608236\n",
      "3737648006 2583436404 88300512\n",
      "737041056 159034880 27694449\n",
      "2057947595 1677521625 167595361\n",
      "1063912487 263622349 276071482\n",
      "3953039676 4041226796 129248202\n",
      "2225542956 1670538010 6983615\n",
      "560633984 954815903 176407072\n",
      "2847762723 3328263653 47751903\n",
      "2769357371 3962821444 78405352\n",
      "3825948518 3256723932 2598860\n",
      "4082287878 3667097018 134988879\n",
      "4243640111 3276936468 51327185\n",
      "4217276757 3259322792 17613676\n",
      "\n",
      "water-to-light map:\n",
      "527906959 2908176499 284796856\n",
      "1306013866 0 139756297\n",
      "500839409 1466481782 27067550\n",
      "1269694476 139756297 36319390\n",
      "0 778456518 2402633\n",
      "4218077327 4154765934 76889969\n",
      "812703815 4004150799 56130996\n",
      "153843304 3657154694 8975056\n",
      "2402633 905946004 132694584\n",
      "3795108796 2776082693 132093806\n",
      "3927202602 1422228955 44252827\n",
      "1445770163 1493549332 1282533361\n",
      "3794865694 780859151 243102\n",
      "2728303524 176075687 602380831\n",
      "162818360 3666129750 338021049\n",
      "3330684355 3319846298 337308396\n",
      "4154765934 4231655903 63311393\n",
      "135097217 887199917 18746087\n",
      "3667992751 3192973355 126872943\n",
      "3971455429 781102253 88826366\n",
      "1252423178 869928619 17271298\n",
      "868834811 1038640588 383588367\n",
      "\n",
      "light-to-temperature map:\n",
      "2621973104 3678827401 230150807\n",
      "1333642604 1531317439 615453278\n",
      "3364444750 2854318675 314483239\n",
      "2978187907 3908978208 107198609\n",
      "1117308885 1110453605 216333719\n",
      "1951157390 4016176817 152726483\n",
      "4168382203 2717095112 26843204\n",
      "0 312822387 5553076\n",
      "287414983 245463475 67358912\n",
      "1949095882 2597527252 2061508\n",
      "3836867339 1522015715 9301724\n",
      "648138229 2599588760 117506352\n",
      "4132690450 1486323962 35691753\n",
      "2852123911 4168903300 126063996\n",
      "2468610361 3525464658 153362743\n",
      "526108840 988424216 122029389\n",
      "5553076 0 148736111\n",
      "3265904462 1326787324 98540288\n",
      "4195225407 716774234 17303853\n",
      "181751976 318375463 105663007\n",
      "843084177 3275513023 249951635\n",
      "2214264232 734078087 254346129\n",
      "154289187 218000686 27462789\n",
      "3146382866 684048190 32726044\n",
      "765644581 2433292104 77439596\n",
      "3179108910 2510731700 86795552\n",
      "3846169063 2146770717 286521387\n",
      "2103883873 2743938316 110380359\n",
      "3085386516 1425327612 60996350\n",
      "3678927989 526108840 157939350\n",
      "4212529260 3193074987 82438036\n",
      "354773895 148736111 69264575\n",
      "1093035812 3168801914 24273073\n",
      "\n",
      "temperature-to-humidity map:\n",
      "1008510114 1939290935 27755995\n",
      "2205283444 4197517502 16218189\n",
      "1119061522 3123774174 108864966\n",
      "1566495924 221087407 33939034\n",
      "3089618547 3728555042 25452278\n",
      "2341294643 3455988869 16076350\n",
      "2286651827 3754007320 54642816\n",
      "704748216 2542375745 76754089\n",
      "445299830 3938069116 259448386\n",
      "1036266109 1300576315 82795413\n",
      "178337856 1565003866 40230920\n",
      "2122934367 1605234786 81339593\n",
      "1484902828 980285858 81593096\n",
      "2823460240 1967046930 266158307\n",
      "3827446421 1526750766 38253100\n",
      "984919715 1161567987 23590399\n",
      "218568776 1061878954 99689033\n",
      "4049237602 3232639140 223349729\n",
      "953670836 2233205237 3881060\n",
      "318257809 3472065219 89705062\n",
      "1727156113 3113814046 9960128\n",
      "3733360236 444372828 94086185\n",
      "4272587331 3688491436 22379965\n",
      "910921285 178337856 42749551\n",
      "781502305 3808650136 129418980\n",
      "957551896 2798966448 27367819\n",
      "1870217811 1686574379 252716556\n",
      "407962871 2998327877 37336959\n",
      "2508087592 2826334267 171993610\n",
      "1600434958 3561770281 126721155\n",
      "3865699521 812829188 167456670\n",
      "1737116241 1185158386 115417929\n",
      "1852534170 3710871401 17683641\n",
      "3420360273 255026441 38629788\n",
      "1227926488 2620139318 178827130\n",
      "4033156191 4250190027 16081411\n",
      "2204273960 2619129834 1009484\n",
      "2250197491 4213735691 36454336\n",
      "2680081202 1383371728 143379038\n",
      "3458990061 538459013 274370175\n",
      "3115070825 2237086297 305289448\n",
      "2357370993 293656229 150716599\n",
      "1406753618 3035664836 78149210\n",
      "2221501633 4266271438 28695858\n",
      "\n",
      "humidity-to-location map:\n",
      "2849843584 4147982382 56632112\n",
      "3849085050 3618212322 355529444\n",
      "1632881348 407047779 65646492\n",
      "3056274757 2246063521 686771203\n",
      "2729873863 4028012661 26534599\n",
      "3779070915 1543896540 70014135\n",
      "2571854216 2932834724 91402738\n",
      "2192942437 1028113266 378911779\n",
      "2960746591 932585100 95528166\n",
      "765942740 0 407047779\n",
      "2663256954 1441254676 66616909\n",
      "2756408462 4054547260 93435122\n",
      "1698527840 1407025045 34229631\n",
      "0 3024237462 156854744\n",
      "3743045960 1507871585 36024955\n",
      "156854744 3181092206 437120116\n",
      "1172990519 472694271 459890829\n",
      "2906475696 3973741766 54270895\n",
      "593974860 2074095641 171967880\n",
      "1732757471 1613910675 460184966\n"
     ]
    }
   ],
   "source": [
    "with open(\"input/day5.txt\", \"r\") as file:\n",
    "    contents = file.read()\n",
    "    \n",
    "print(contents)\n"
   ]
  },
  {
   "cell_type": "code",
   "execution_count": 172,
   "metadata": {},
   "outputs": [],
   "source": [
    "contents = contents.split(\"\\n\\n\")"
   ]
  },
  {
   "cell_type": "code",
   "execution_count": 173,
   "metadata": {},
   "outputs": [],
   "source": [
    "seed_list = contents[0].split(\" \")[1:]\n"
   ]
  },
  {
   "cell_type": "code",
   "execution_count": 174,
   "metadata": {},
   "outputs": [],
   "source": [
    "seed_list = [int(seed) for seed in seed_list]"
   ]
  },
  {
   "cell_type": "code",
   "execution_count": null,
   "metadata": {},
   "outputs": [],
   "source": []
  },
  {
   "cell_type": "code",
   "execution_count": 175,
   "metadata": {},
   "outputs": [
    {
     "data": {
      "text/plain": [
       "['4170452318 3837406401 124514978',\n",
       " '2212408060 1593776674 105988696',\n",
       " '3837406401 4016132523 278834773',\n",
       " '1475766470 1699765370 492158296',\n",
       " '3698488336 1475766470 118010204',\n",
       " '2318396756 2191923666 46351359',\n",
       " '4116241174 3961921379 54211144',\n",
       " '2193579298 3791037069 18828762',\n",
       " '2364748115 2578360543 354997036',\n",
       " '3085506703 3439828590 106510622',\n",
       " '1967924766 3546339212 219021823',\n",
       " '2719745151 3765361035 25676034',\n",
       " '2745421185 2238275025 340085518',\n",
       " '2186946589 3809865831 6632709',\n",
       " '3192017325 2933357579 506471011']"
      ]
     },
     "execution_count": 175,
     "metadata": {},
     "output_type": "execute_result"
    }
   ],
   "source": [
    "i = 0\n",
    "wiersz = contents[1:][i].split(\"\\n\")[1:]\n",
    "wiersz"
   ]
  },
  {
   "cell_type": "code",
   "execution_count": 176,
   "metadata": {},
   "outputs": [
    {
     "data": {
      "text/html": [
       "<div>\n",
       "<style scoped>\n",
       "    .dataframe tbody tr th:only-of-type {\n",
       "        vertical-align: middle;\n",
       "    }\n",
       "\n",
       "    .dataframe tbody tr th {\n",
       "        vertical-align: top;\n",
       "    }\n",
       "\n",
       "    .dataframe thead th {\n",
       "        text-align: right;\n",
       "    }\n",
       "</style>\n",
       "<table border=\"1\" class=\"dataframe\">\n",
       "  <thead>\n",
       "    <tr style=\"text-align: right;\">\n",
       "      <th></th>\n",
       "      <th>range-start</th>\n",
       "      <th>source-range-start</th>\n",
       "      <th>length</th>\n",
       "    </tr>\n",
       "  </thead>\n",
       "  <tbody>\n",
       "    <tr>\n",
       "      <th>0</th>\n",
       "      <td>50</td>\n",
       "      <td>98</td>\n",
       "      <td>2</td>\n",
       "    </tr>\n",
       "    <tr>\n",
       "      <th>1</th>\n",
       "      <td>52</td>\n",
       "      <td>50</td>\n",
       "      <td>48</td>\n",
       "    </tr>\n",
       "  </tbody>\n",
       "</table>\n",
       "</div>"
      ],
      "text/plain": [
       "   range-start  source-range-start  length\n",
       "0           50                  98       2\n",
       "1           52                  50      48"
      ]
     },
     "execution_count": 176,
     "metadata": {},
     "output_type": "execute_result"
    }
   ],
   "source": [
    "def df_from_wiersz(wiersz):\n",
    "    df = pd.DataFrame([s.split(\" \") for s in wiersz], \n",
    "                      columns=[\"range-start\",\"source-range-start\", \"length\"])\n",
    "    df['range-start'] = df['range-start'].astype('int64')\n",
    "    df['source-range-start'] = df['source-range-start'].astype('int64')\n",
    "    df['length'] = df['length'].astype('int64')\n",
    "    return df\n",
    "\n",
    "test_wiersz = ['50 98 2', '52 50 48']\n",
    "df_from_wiersz(test_wiersz) == pd.DataFrame([['50', '98', '2'], ['52', '50', '48']], \n",
    "                                            columns=[\"range-start\",\"source-range-start\", \"length\"])\n",
    "df_from_wiersz(test_wiersz)"
   ]
  },
  {
   "cell_type": "code",
   "execution_count": 177,
   "metadata": {},
   "outputs": [],
   "source": [
    "seed = 79\n",
    "# calculate seed \n",
    "df = df_from_wiersz(test_wiersz)\n",
    "\n",
    "def calculate_new_seed_from_map(seed, mapka):\n",
    "    # if seed w danym wierszu, zamien wartosc seed na nowa, odpowiednio przesunieta\n",
    "    for index, wiersz in mapka.iterrows():\n",
    "        if seed >= wiersz['source-range-start'] and seed <= wiersz['source-range-start'] + wiersz['length']:\n",
    "            #print('prawidlowy wiersz: ', wiersz)\n",
    "            przesunac_wartosc_jesli_w_zakresie = wiersz['range-start']-wiersz['source-range-start']\n",
    "            nowa_wartosc = seed + przesunac_wartosc_jesli_w_zakresie\n",
    "            #print('nowa_wartość: ', nowa_wartosc)\n",
    "            return nowa_wartosc\n",
    "        else:\n",
    "            pass\n",
    "    # gdy nie ma w zadnym zbiorze, zwroc seed\n",
    "    return seed\n",
    "\n"
   ]
  },
  {
   "cell_type": "code",
   "execution_count": 178,
   "metadata": {},
   "outputs": [
    {
     "data": {
      "text/plain": [
       "81"
      ]
     },
     "execution_count": 178,
     "metadata": {},
     "output_type": "execute_result"
    }
   ],
   "source": [
    "calculate_new_seed_from_map(seed, df)"
   ]
  },
  {
   "cell_type": "code",
   "execution_count": 179,
   "metadata": {},
   "outputs": [
    {
     "ename": "AttributeError",
     "evalue": "'DataFrame' object has no attribute 'append'",
     "output_type": "error",
     "traceback": [
      "\u001b[1;31m---------------------------------------------------------------------------\u001b[0m",
      "\u001b[1;31mAttributeError\u001b[0m                            Traceback (most recent call last)",
      "\u001b[1;32m~\\AppData\\Local\\Temp\\ipykernel_33608\\301816727.py\u001b[0m in \u001b[0;36m?\u001b[1;34m()\u001b[0m\n\u001b[0;32m      1\u001b[0m \u001b[0mile_map\u001b[0m \u001b[1;33m=\u001b[0m \u001b[0mlen\u001b[0m\u001b[1;33m(\u001b[0m\u001b[0mcontents\u001b[0m\u001b[1;33m)\u001b[0m\u001b[1;33m-\u001b[0m\u001b[1;36m1\u001b[0m\u001b[1;33m\u001b[0m\u001b[1;33m\u001b[0m\u001b[0m\n\u001b[0;32m      2\u001b[0m \u001b[1;33m\u001b[0m\u001b[0m\n\u001b[0;32m      3\u001b[0m \u001b[1;32mfor\u001b[0m \u001b[0mj\u001b[0m \u001b[1;32min\u001b[0m \u001b[0mrange\u001b[0m\u001b[1;33m(\u001b[0m\u001b[0mile_map\u001b[0m\u001b[1;33m)\u001b[0m\u001b[1;33m:\u001b[0m\u001b[1;33m\u001b[0m\u001b[1;33m\u001b[0m\u001b[0m\n\u001b[0;32m      4\u001b[0m     \u001b[0mwiersz\u001b[0m \u001b[1;33m=\u001b[0m \u001b[0mcontents\u001b[0m\u001b[1;33m[\u001b[0m\u001b[1;36m1\u001b[0m\u001b[1;33m:\u001b[0m\u001b[1;33m]\u001b[0m\u001b[1;33m[\u001b[0m\u001b[0mj\u001b[0m\u001b[1;33m]\u001b[0m\u001b[1;33m.\u001b[0m\u001b[0msplit\u001b[0m\u001b[1;33m(\u001b[0m\u001b[1;34m\"\\n\"\u001b[0m\u001b[1;33m)\u001b[0m\u001b[1;33m[\u001b[0m\u001b[1;36m1\u001b[0m\u001b[1;33m:\u001b[0m\u001b[1;33m]\u001b[0m\u001b[1;33m\u001b[0m\u001b[1;33m\u001b[0m\u001b[0m\n\u001b[1;32m----> 5\u001b[1;33m     \u001b[0mdf\u001b[0m\u001b[1;33m.\u001b[0m\u001b[0mappend\u001b[0m\u001b[1;33m(\u001b[0m\u001b[0mdf_from_wiersz\u001b[0m\u001b[1;33m(\u001b[0m\u001b[0mwiersz\u001b[0m\u001b[1;33m)\u001b[0m\u001b[1;33m)\u001b[0m \u001b[1;31m# mapa\u001b[0m\u001b[1;33m\u001b[0m\u001b[1;33m\u001b[0m\u001b[0m\n\u001b[0m\u001b[0;32m      6\u001b[0m \u001b[1;33m\u001b[0m\u001b[0m\n\u001b[0;32m      7\u001b[0m \u001b[0mfinal\u001b[0m \u001b[1;33m=\u001b[0m \u001b[1;33m[\u001b[0m\u001b[1;33m]\u001b[0m\u001b[1;33m\u001b[0m\u001b[1;33m\u001b[0m\u001b[0m\n\u001b[0;32m      8\u001b[0m \u001b[1;32mfor\u001b[0m \u001b[0mseed\u001b[0m \u001b[1;32min\u001b[0m \u001b[0mseed_list\u001b[0m\u001b[1;33m:\u001b[0m\u001b[1;33m\u001b[0m\u001b[1;33m\u001b[0m\u001b[0m\n",
      "\u001b[1;32mc:\\ProgramData\\anaconda3\\Lib\\site-packages\\pandas\\core\\generic.py\u001b[0m in \u001b[0;36m?\u001b[1;34m(self, name)\u001b[0m\n\u001b[0;32m   5985\u001b[0m             \u001b[1;32mand\u001b[0m \u001b[0mname\u001b[0m \u001b[1;32mnot\u001b[0m \u001b[1;32min\u001b[0m \u001b[0mself\u001b[0m\u001b[1;33m.\u001b[0m\u001b[0m_accessors\u001b[0m\u001b[1;33m\u001b[0m\u001b[1;33m\u001b[0m\u001b[0m\n\u001b[0;32m   5986\u001b[0m             \u001b[1;32mand\u001b[0m \u001b[0mself\u001b[0m\u001b[1;33m.\u001b[0m\u001b[0m_info_axis\u001b[0m\u001b[1;33m.\u001b[0m\u001b[0m_can_hold_identifiers_and_holds_name\u001b[0m\u001b[1;33m(\u001b[0m\u001b[0mname\u001b[0m\u001b[1;33m)\u001b[0m\u001b[1;33m\u001b[0m\u001b[1;33m\u001b[0m\u001b[0m\n\u001b[0;32m   5987\u001b[0m         ):\n\u001b[0;32m   5988\u001b[0m             \u001b[1;32mreturn\u001b[0m \u001b[0mself\u001b[0m\u001b[1;33m[\u001b[0m\u001b[0mname\u001b[0m\u001b[1;33m]\u001b[0m\u001b[1;33m\u001b[0m\u001b[1;33m\u001b[0m\u001b[0m\n\u001b[1;32m-> 5989\u001b[1;33m         \u001b[1;32mreturn\u001b[0m \u001b[0mobject\u001b[0m\u001b[1;33m.\u001b[0m\u001b[0m__getattribute__\u001b[0m\u001b[1;33m(\u001b[0m\u001b[0mself\u001b[0m\u001b[1;33m,\u001b[0m \u001b[0mname\u001b[0m\u001b[1;33m)\u001b[0m\u001b[1;33m\u001b[0m\u001b[1;33m\u001b[0m\u001b[0m\n\u001b[0m",
      "\u001b[1;31mAttributeError\u001b[0m: 'DataFrame' object has no attribute 'append'"
     ]
    }
   ],
   "source": [
    "ile_map = len(contents)-1\n",
    "\n",
    "for j in range(ile_map):  \n",
    "    wiersz = contents[1:][j].split(\"\\n\")[1:]\n",
    "    df.append(df_from_wiersz(wiersz)) # mapa\n",
    "\n",
    "final = []\n",
    "for seed in seed_list:\n",
    "    for i in range(ile_map):\n",
    "        seed = calculate_new_seed_from_map(seed, df[i])\n",
    "        #print(seed)\n",
    "    final.append(seed)\n",
    "min(final)"
   ]
  },
  {
   "cell_type": "markdown",
   "metadata": {},
   "source": [
    "min to 484023871 xD"
   ]
  },
  {
   "cell_type": "markdown",
   "metadata": {},
   "source": [
    "# PART 2"
   ]
  },
  {
   "cell_type": "code",
   "execution_count": 180,
   "metadata": {},
   "outputs": [
    {
     "data": {
      "text/plain": [
       "7"
      ]
     },
     "execution_count": 180,
     "metadata": {},
     "output_type": "execute_result"
    }
   ],
   "source": [
    "ile_map = len(contents)-1\n",
    "ile_map"
   ]
  },
  {
   "cell_type": "code",
   "execution_count": 190,
   "metadata": {},
   "outputs": [
    {
     "name": "stdout",
     "output_type": "stream",
     "text": [
      "[2276375722, 160148132, 3424292843, 82110297, 1692203766, 342813967, 3289792522, 103516087, 2590548294, 590357761, 1365412380, 80084180, 3574751516, 584781136, 4207087048, 36194356, 1515742281, 174009980, 6434225, 291842774]\n",
      "1.0  para start\n",
      " caly zbior - tak\n",
      " jest w drugiej polowie\n",
      "2.0  para start\n",
      " caly zbior - tak\n",
      " jest w drugiej polowie\n",
      "3.0  para start\n",
      " caly zbior - tak\n",
      " jest w drugiej polowie\n",
      "4.0  para start\n",
      " caly zbior - tak\n",
      " jest w drugiej polowie\n",
      "5.0  para start\n",
      " caly zbior - tak\n",
      " jest w drugiej polowie\n",
      "6.0  para start\n",
      " caly zbior - nie\n",
      "7.0  para start\n",
      " caly zbior - tak\n",
      " jest w drugiej polowie\n",
      "8.0  para start\n",
      " caly zbior - tak\n",
      " jest w drugiej polowie\n",
      "9.0  para start\n",
      " caly zbior - tak\n",
      " jest w drugiej polowie\n",
      "10.0  para start\n",
      " caly zbior - nie\n"
     ]
    },
    {
     "data": {
      "text/plain": [
       "inf"
      ]
     },
     "execution_count": 190,
     "metadata": {},
     "output_type": "execute_result"
    }
   ],
   "source": [
    "#######\n",
    "print(seed_list)\n",
    "final = float('inf')  # Initialize final with positive infinity\n",
    "df = []\n",
    "\n",
    "for j in range(ile_map):  \n",
    "    wiersz = contents[1:][j].split(\"\\n\")[1:]\n",
    "    df.append(df_from_wiersz(wiersz)) # mapa\n",
    "\n",
    "# dla kazdej pary\n",
    "for i in range(0, len(seed_list), 2):\n",
    "    print(i/2+1,' para start')\n",
    "    start = seed_list[i]\n",
    "    length = seed_list[i+1]\n",
    "\n",
    "    # dla pierwszej mapy\n",
    "    for j in range(0,1):\n",
    "\n",
    "        #sprawdzic tez dla polowek (a potem rekurencja kurwa)\n",
    "        if calculate_new_seed_from_map(start, df[j]) == start and calculate_new_seed_from_map(start+length, df[j]) == start+length:\n",
    "            print(' caly zbior - nie')\n",
    "            \n",
    "\n",
    "        else:\n",
    "            print(' caly zbior - tak')\n",
    "            if calculate_new_seed_from_map(start, df[j]) == start and calculate_new_seed_from_map(start+length/2, df[j]) == start+length/2:\n",
    "                print(' nie ma w pierwszej polowie')\n",
    "            else:\n",
    "                print(' jest w drugiej polowie')\n",
    "\n",
    "            \n",
    "\n",
    "    \n",
    "        # # dla kazdego seeda\n",
    "        # for seed in range(start, start+length):\n",
    "        \n",
    "        # # dla kazdej mapy\n",
    "        #     for j in range(ile_map):\n",
    "        #         seed = calculate_new_seed_from_map(seed, df[j])\n",
    "        #     final = min(final, seed)  # Update final with the minimum seed value\n",
    "final"
   ]
  },
  {
   "cell_type": "markdown",
   "metadata": {},
   "source": [
    "[79, 14, 55, 13]\n",
    "1.0  para start\n",
    "2.0  para start\n",
    "46"
   ]
  },
  {
   "cell_type": "markdown",
   "metadata": {},
   "source": [
    "najdluzej schodzi ze sprawdzeniem tych wsyzstkich liczb\n",
    "> zamiast sprawdzać po kolei to sprawdzić najpierw czy wszystkie el. z pary należą do wiersza, jak tak to zmieniać\n",
    "\n",
    "teraz:\n",
    "seed: x, x+1, x+2 ... x+n \n",
    "przechodzimy przez całość pojedyńczo\n",
    "\n",
    "powinno być: \n",
    "jeśli pierwszy i ostatni mieści się w zakresie\n",
    "    sprawdzaj po kolei seedy\n",
    "    przechodz prez calosc pojedynczo\n",
    "jesli pierwszy i ostatni nie miesci sie w zakresie x:\n",
    "    "
   ]
  },
  {
   "cell_type": "markdown",
   "metadata": {},
   "source": [
    "teraz:\n",
    "sprawdzam pary-> każdy seed -> każda mapa\n",
    "czyli dostaje wynik po kolei dla kazdego seeda\n",
    "\n",
    "test:\n",
    "sprawdzam pary -> każda mapa -> każdy seed\n",
    "dostajemy każdą mapkę przeliczoną po kolei"
   ]
  },
  {
   "cell_type": "code",
   "execution_count": 195,
   "metadata": {},
   "outputs": [
    {
     "name": "stdout",
     "output_type": "stream",
     "text": [
      "[2276375722, 160148132, 3424292843, 82110297, 1692203766, 342813967, 3289792522, 103516087, 2590548294, 590357761, 1365412380, 80084180, 3574751516, 584781136, 4207087048, 36194356, 1515742281, 174009980, 6434225, 291842774]\n",
      "1.0  para start\n",
      "2.0  para start\n",
      "3.0  para start\n",
      "4.0  para start\n",
      "5.0  para start\n",
      "6.0  para start\n",
      "7.0  para start\n",
      "8.0  para start\n",
      "9.0  para start\n",
      "10.0  para start\n"
     ]
    },
    {
     "data": {
      "text/plain": [
       "4028400537"
      ]
     },
     "execution_count": 195,
     "metadata": {},
     "output_type": "execute_result"
    }
   ],
   "source": [
    "#######\n",
    "print(seed_list)\n",
    "final = float('inf')  # Initialize final with positive infinity\n",
    "df = []\n",
    "\n",
    "for j in range(ile_map):  \n",
    "    wiersz = contents[1:][j].split(\"\\n\")[1:]\n",
    "    df.append(df_from_wiersz(wiersz)) # mapa\n",
    "\n",
    "# dla kazdej pary\n",
    "for i in range(0, len(seed_list), 2):\n",
    "    print(i/2+1,' para start')\n",
    "    start = seed_list[i]\n",
    "    length = seed_list[i+1]\n",
    "\n",
    "    # dla kazdego seeda\n",
    "    #for seed in range(start, start+length):\n",
    "    #2276375722, 160148132\n",
    "    for seed in range(2276375722, 2276375722+100): # juz dla tysiaca schodzi dlugo\n",
    "    # jesli w zakresie to rob normalnie, jak nie to to pomin\n",
    "    # dla kazdej mapy\n",
    "        for j in range(ile_map):\n",
    "            seed = calculate_new_seed_from_map(seed, df[j])\n",
    "        final = min(final, seed)  # Update final with the minimum seed value\n",
    "final"
   ]
  },
  {
   "cell_type": "markdown",
   "metadata": {},
   "source": [
    "5.1s dla +100"
   ]
  },
  {
   "cell_type": "code",
   "execution_count": null,
   "metadata": {},
   "outputs": [],
   "source": []
  }
 ],
 "metadata": {
  "kernelspec": {
   "display_name": "base",
   "language": "python",
   "name": "python3"
  },
  "language_info": {
   "codemirror_mode": {
    "name": "ipython",
    "version": 3
   },
   "file_extension": ".py",
   "mimetype": "text/x-python",
   "name": "python",
   "nbconvert_exporter": "python",
   "pygments_lexer": "ipython3",
   "version": "3.11.5"
  }
 },
 "nbformat": 4,
 "nbformat_minor": 2
}
