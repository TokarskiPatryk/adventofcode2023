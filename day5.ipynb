{
 "cells": [
  {
   "cell_type": "markdown",
   "metadata": {},
   "source": [
    "# Part 1"
   ]
  },
  {
   "cell_type": "code",
   "execution_count": 1,
   "metadata": {},
   "outputs": [],
   "source": [
    "import pandas as pd\n",
    "import numpy as np"
   ]
  },
  {
   "cell_type": "code",
   "execution_count": 67,
   "metadata": {},
   "outputs": [
    {
     "name": "stdout",
     "output_type": "stream",
     "text": [
      "seeds: 2276375722 160148132 3424292843 82110297 1692203766 342813967 3289792522 103516087 2590548294 590357761 1365412380 80084180 3574751516 584781136 4207087048 36194356 1515742281 174009980 6434225 291842774\n",
      "\n",
      "seed-to-soil map:\n",
      "4170452318 3837406401 124514978\n",
      "2212408060 1593776674 105988696\n",
      "3837406401 4016132523 278834773\n",
      "1475766470 1699765370 492158296\n",
      "3698488336 1475766470 118010204\n",
      "2318396756 2191923666 46351359\n",
      "4116241174 3961921379 54211144\n",
      "2193579298 3791037069 18828762\n",
      "2364748115 2578360543 354997036\n",
      "3085506703 3439828590 106510622\n",
      "1967924766 3546339212 219021823\n",
      "2719745151 3765361035 25676034\n",
      "2745421185 2238275025 340085518\n",
      "2186946589 3809865831 6632709\n",
      "3192017325 2933357579 506471011\n",
      "\n",
      "soil-to-fertilizer map:\n",
      "2067774073 3521970321 52706909\n",
      "3338663639 285713733 377282283\n",
      "4175452431 2125409520 119514865\n",
      "3950920796 1900877885 224531635\n",
      "285713733 3604616580 690350716\n",
      "976064449 3368036703 153933618\n",
      "2120480982 662996016 210956413\n",
      "2763248642 1355402238 545475647\n",
      "3715945922 873952429 49638562\n",
      "3765584484 3182700391 185336312\n",
      "2331437395 923590991 431811247\n",
      "1129998067 2244924385 937776006\n",
      "3308724289 3574677230 29939350\n",
      "\n",
      "fertilizer-to-water map:\n",
      "1898912715 0 159034880\n",
      "0 781591504 125461131\n",
      "4234890433 2427770485 8749678\n",
      "176481534 1845116986 384152450\n",
      "822014814 539693831 241897673\n",
      "125461131 907052635 47763268\n",
      "1476125220 244008638 19613711\n",
      "3828547378 4170474998 124492298\n",
      "2643114268 2457193301 126243103\n",
      "173224399 2229269436 3257135\n",
      "2916187764 3376015556 236473226\n",
      "764735505 186729329 57279309\n",
      "2427770485 3802085897 160735547\n",
      "2895514626 2436520163 20673138\n",
      "3152660990 2671736916 584987016\n",
      "1495738931 1131222975 403173784\n",
      "1339983969 1534396759 136141251\n",
      "2588506032 3612488782 54608236\n",
      "3737648006 2583436404 88300512\n",
      "737041056 159034880 27694449\n",
      "2057947595 1677521625 167595361\n",
      "1063912487 263622349 276071482\n",
      "3953039676 4041226796 129248202\n",
      "2225542956 1670538010 6983615\n",
      "560633984 954815903 176407072\n",
      "2847762723 3328263653 47751903\n",
      "2769357371 3962821444 78405352\n",
      "3825948518 3256723932 2598860\n",
      "4082287878 3667097018 134988879\n",
      "4243640111 3276936468 51327185\n",
      "4217276757 3259322792 17613676\n",
      "\n",
      "water-to-light map:\n",
      "527906959 2908176499 284796856\n",
      "1306013866 0 139756297\n",
      "500839409 1466481782 27067550\n",
      "1269694476 139756297 36319390\n",
      "0 778456518 2402633\n",
      "4218077327 4154765934 76889969\n",
      "812703815 4004150799 56130996\n",
      "153843304 3657154694 8975056\n",
      "2402633 905946004 132694584\n",
      "3795108796 2776082693 132093806\n",
      "3927202602 1422228955 44252827\n",
      "1445770163 1493549332 1282533361\n",
      "3794865694 780859151 243102\n",
      "2728303524 176075687 602380831\n",
      "162818360 3666129750 338021049\n",
      "3330684355 3319846298 337308396\n",
      "4154765934 4231655903 63311393\n",
      "135097217 887199917 18746087\n",
      "3667992751 3192973355 126872943\n",
      "3971455429 781102253 88826366\n",
      "1252423178 869928619 17271298\n",
      "868834811 1038640588 383588367\n",
      "\n",
      "light-to-temperature map:\n",
      "2621973104 3678827401 230150807\n",
      "1333642604 1531317439 615453278\n",
      "3364444750 2854318675 314483239\n",
      "2978187907 3908978208 107198609\n",
      "1117308885 1110453605 216333719\n",
      "1951157390 4016176817 152726483\n",
      "4168382203 2717095112 26843204\n",
      "0 312822387 5553076\n",
      "287414983 245463475 67358912\n",
      "1949095882 2597527252 2061508\n",
      "3836867339 1522015715 9301724\n",
      "648138229 2599588760 117506352\n",
      "4132690450 1486323962 35691753\n",
      "2852123911 4168903300 126063996\n",
      "2468610361 3525464658 153362743\n",
      "526108840 988424216 122029389\n",
      "5553076 0 148736111\n",
      "3265904462 1326787324 98540288\n",
      "4195225407 716774234 17303853\n",
      "181751976 318375463 105663007\n",
      "843084177 3275513023 249951635\n",
      "2214264232 734078087 254346129\n",
      "154289187 218000686 27462789\n",
      "3146382866 684048190 32726044\n",
      "765644581 2433292104 77439596\n",
      "3179108910 2510731700 86795552\n",
      "3846169063 2146770717 286521387\n",
      "2103883873 2743938316 110380359\n",
      "3085386516 1425327612 60996350\n",
      "3678927989 526108840 157939350\n",
      "4212529260 3193074987 82438036\n",
      "354773895 148736111 69264575\n",
      "1093035812 3168801914 24273073\n",
      "\n",
      "temperature-to-humidity map:\n",
      "1008510114 1939290935 27755995\n",
      "2205283444 4197517502 16218189\n",
      "1119061522 3123774174 108864966\n",
      "1566495924 221087407 33939034\n",
      "3089618547 3728555042 25452278\n",
      "2341294643 3455988869 16076350\n",
      "2286651827 3754007320 54642816\n",
      "704748216 2542375745 76754089\n",
      "445299830 3938069116 259448386\n",
      "1036266109 1300576315 82795413\n",
      "178337856 1565003866 40230920\n",
      "2122934367 1605234786 81339593\n",
      "1484902828 980285858 81593096\n",
      "2823460240 1967046930 266158307\n",
      "3827446421 1526750766 38253100\n",
      "984919715 1161567987 23590399\n",
      "218568776 1061878954 99689033\n",
      "4049237602 3232639140 223349729\n",
      "953670836 2233205237 3881060\n",
      "318257809 3472065219 89705062\n",
      "1727156113 3113814046 9960128\n",
      "3733360236 444372828 94086185\n",
      "4272587331 3688491436 22379965\n",
      "910921285 178337856 42749551\n",
      "781502305 3808650136 129418980\n",
      "957551896 2798966448 27367819\n",
      "1870217811 1686574379 252716556\n",
      "407962871 2998327877 37336959\n",
      "2508087592 2826334267 171993610\n",
      "1600434958 3561770281 126721155\n",
      "3865699521 812829188 167456670\n",
      "1737116241 1185158386 115417929\n",
      "1852534170 3710871401 17683641\n",
      "3420360273 255026441 38629788\n",
      "1227926488 2620139318 178827130\n",
      "4033156191 4250190027 16081411\n",
      "2204273960 2619129834 1009484\n",
      "2250197491 4213735691 36454336\n",
      "2680081202 1383371728 143379038\n",
      "3458990061 538459013 274370175\n",
      "3115070825 2237086297 305289448\n",
      "2357370993 293656229 150716599\n",
      "1406753618 3035664836 78149210\n",
      "2221501633 4266271438 28695858\n",
      "\n",
      "humidity-to-location map:\n",
      "2849843584 4147982382 56632112\n",
      "3849085050 3618212322 355529444\n",
      "1632881348 407047779 65646492\n",
      "3056274757 2246063521 686771203\n",
      "2729873863 4028012661 26534599\n",
      "3779070915 1543896540 70014135\n",
      "2571854216 2932834724 91402738\n",
      "2192942437 1028113266 378911779\n",
      "2960746591 932585100 95528166\n",
      "765942740 0 407047779\n",
      "2663256954 1441254676 66616909\n",
      "2756408462 4054547260 93435122\n",
      "1698527840 1407025045 34229631\n",
      "0 3024237462 156854744\n",
      "3743045960 1507871585 36024955\n",
      "156854744 3181092206 437120116\n",
      "1172990519 472694271 459890829\n",
      "2906475696 3973741766 54270895\n",
      "593974860 2074095641 171967880\n",
      "1732757471 1613910675 460184966\n"
     ]
    }
   ],
   "source": [
    "with open(\"input/day5.txt\", \"r\") as file:\n",
    "    contents = file.read()\n",
    "    \n",
    "print(contents)\n"
   ]
  },
  {
   "cell_type": "code",
   "execution_count": 68,
   "metadata": {},
   "outputs": [],
   "source": [
    "contents = contents.split(\"\\n\\n\")"
   ]
  },
  {
   "cell_type": "code",
   "execution_count": 69,
   "metadata": {},
   "outputs": [],
   "source": [
    "seed_list = contents[0].split(\" \")[1:]\n"
   ]
  },
  {
   "cell_type": "code",
   "execution_count": 70,
   "metadata": {},
   "outputs": [],
   "source": [
    "seed_list = [int(seed) for seed in seed_list]"
   ]
  },
  {
   "cell_type": "code",
   "execution_count": null,
   "metadata": {},
   "outputs": [],
   "source": []
  },
  {
   "cell_type": "code",
   "execution_count": 71,
   "metadata": {},
   "outputs": [
    {
     "data": {
      "text/plain": [
       "['4170452318 3837406401 124514978',\n",
       " '2212408060 1593776674 105988696',\n",
       " '3837406401 4016132523 278834773',\n",
       " '1475766470 1699765370 492158296',\n",
       " '3698488336 1475766470 118010204',\n",
       " '2318396756 2191923666 46351359',\n",
       " '4116241174 3961921379 54211144',\n",
       " '2193579298 3791037069 18828762',\n",
       " '2364748115 2578360543 354997036',\n",
       " '3085506703 3439828590 106510622',\n",
       " '1967924766 3546339212 219021823',\n",
       " '2719745151 3765361035 25676034',\n",
       " '2745421185 2238275025 340085518',\n",
       " '2186946589 3809865831 6632709',\n",
       " '3192017325 2933357579 506471011']"
      ]
     },
     "execution_count": 71,
     "metadata": {},
     "output_type": "execute_result"
    }
   ],
   "source": [
    "i = 0\n",
    "wiersz = contents[1:][i].split(\"\\n\")[1:]\n",
    "wiersz"
   ]
  },
  {
   "cell_type": "code",
   "execution_count": 72,
   "metadata": {},
   "outputs": [
    {
     "data": {
      "text/html": [
       "<div>\n",
       "<style scoped>\n",
       "    .dataframe tbody tr th:only-of-type {\n",
       "        vertical-align: middle;\n",
       "    }\n",
       "\n",
       "    .dataframe tbody tr th {\n",
       "        vertical-align: top;\n",
       "    }\n",
       "\n",
       "    .dataframe thead th {\n",
       "        text-align: right;\n",
       "    }\n",
       "</style>\n",
       "<table border=\"1\" class=\"dataframe\">\n",
       "  <thead>\n",
       "    <tr style=\"text-align: right;\">\n",
       "      <th></th>\n",
       "      <th>range-start</th>\n",
       "      <th>source-range-start</th>\n",
       "      <th>length</th>\n",
       "    </tr>\n",
       "  </thead>\n",
       "  <tbody>\n",
       "    <tr>\n",
       "      <th>0</th>\n",
       "      <td>50</td>\n",
       "      <td>98</td>\n",
       "      <td>2</td>\n",
       "    </tr>\n",
       "    <tr>\n",
       "      <th>1</th>\n",
       "      <td>52</td>\n",
       "      <td>50</td>\n",
       "      <td>48</td>\n",
       "    </tr>\n",
       "  </tbody>\n",
       "</table>\n",
       "</div>"
      ],
      "text/plain": [
       "   range-start  source-range-start  length\n",
       "0           50                  98       2\n",
       "1           52                  50      48"
      ]
     },
     "execution_count": 72,
     "metadata": {},
     "output_type": "execute_result"
    }
   ],
   "source": [
    "def df_from_wiersz(wiersz):\n",
    "    df = pd.DataFrame([s.split(\" \") for s in wiersz], \n",
    "                      columns=[\"range-start\",\"source-range-start\", \"length\"])\n",
    "    df['range-start'] = df['range-start'].astype('int64')\n",
    "    df['source-range-start'] = df['source-range-start'].astype('int64')\n",
    "    df['length'] = df['length'].astype('int64')\n",
    "    return df\n",
    "\n",
    "test_wiersz = ['50 98 2', '52 50 48']\n",
    "df_from_wiersz(test_wiersz) == pd.DataFrame([['50', '98', '2'], ['52', '50', '48']], \n",
    "                                            columns=[\"range-start\",\"source-range-start\", \"length\"])\n",
    "df_from_wiersz(test_wiersz)"
   ]
  },
  {
   "cell_type": "code",
   "execution_count": 73,
   "metadata": {},
   "outputs": [],
   "source": [
    "seed = 79\n",
    "# calculate seed \n",
    "df = df_from_wiersz(test_wiersz)\n",
    "\n",
    "def calculate_new_seed_from_map(seed, mapka):\n",
    "    # if seed w danym wierszu, zamien wartosc seed na nowa, odpowiednio przesunieta\n",
    "    for index, wiersz in mapka.iterrows():\n",
    "        if seed >= wiersz['source-range-start'] and seed <= wiersz['source-range-start'] + wiersz['length']:\n",
    "            #print('prawidlowy wiersz: ', wiersz)\n",
    "            przesunac_wartosc_jesli_w_zakresie = wiersz['range-start']-wiersz['source-range-start']\n",
    "            nowa_wartosc = seed + przesunac_wartosc_jesli_w_zakresie\n",
    "            #print('nowa_wartość: ', nowa_wartosc)\n",
    "            return nowa_wartosc\n",
    "        else:\n",
    "            pass\n",
    "    # gdy nie ma w zadnym zbiorze, zwroc seed\n",
    "    return seed\n",
    "\n"
   ]
  },
  {
   "cell_type": "code",
   "execution_count": 74,
   "metadata": {},
   "outputs": [
    {
     "data": {
      "text/plain": [
       "81"
      ]
     },
     "execution_count": 74,
     "metadata": {},
     "output_type": "execute_result"
    }
   ],
   "source": [
    "calculate_new_seed_from_map(seed, df)"
   ]
  },
  {
   "cell_type": "code",
   "execution_count": 75,
   "metadata": {},
   "outputs": [
    {
     "data": {
      "text/plain": [
       "484023871"
      ]
     },
     "execution_count": 75,
     "metadata": {},
     "output_type": "execute_result"
    }
   ],
   "source": [
    "ile_map = len(contents)-1\n",
    "\n",
    "final = []\n",
    "for seed in seed_list:\n",
    "    for i in range(ile_map):\n",
    "        wiersz = contents[1:][i].split(\"\\n\")[1:]\n",
    "        df = df_from_wiersz(wiersz)\n",
    "        seed = calculate_new_seed_from_map(seed, df)\n",
    "        #print(seed)\n",
    "    final.append(seed)\n",
    "min(final)"
   ]
  },
  {
   "cell_type": "markdown",
   "metadata": {},
   "source": [
    "min to 484023871 xD"
   ]
  },
  {
   "cell_type": "markdown",
   "metadata": {},
   "source": [
    "# PART 2"
   ]
  },
  {
   "cell_type": "code",
   "execution_count": 76,
   "metadata": {},
   "outputs": [
    {
     "name": "stdout",
     "output_type": "stream",
     "text": [
      "[2276375722, 160148132, 3424292843, 82110297, 1692203766, 342813967, 3289792522, 103516087, 2590548294, 590357761, 1365412380, 80084180, 3574751516, 584781136, 4207087048, 36194356, 1515742281, 174009980, 6434225, 291842774]\n",
      "1.0  para start\n"
     ]
    },
    {
     "ename": "KeyboardInterrupt",
     "evalue": "",
     "output_type": "error",
     "traceback": [
      "\u001b[1;31m---------------------------------------------------------------------------\u001b[0m",
      "\u001b[1;31mKeyboardInterrupt\u001b[0m                         Traceback (most recent call last)",
      "\u001b[1;32mc:\\Users\\Dell\\Desktop\\projects\\adventofcode2023\\day5.ipynb Cell 15\u001b[0m line \u001b[0;36m1\n\u001b[0;32m      <a href='vscode-notebook-cell:/c%3A/Users/Dell/Desktop/projects/adventofcode2023/day5.ipynb#X31sZmlsZQ%3D%3D?line=8'>9</a>\u001b[0m \u001b[39mfor\u001b[39;00m j \u001b[39min\u001b[39;00m \u001b[39mrange\u001b[39m(ile_map):\n\u001b[0;32m     <a href='vscode-notebook-cell:/c%3A/Users/Dell/Desktop/projects/adventofcode2023/day5.ipynb#X31sZmlsZQ%3D%3D?line=9'>10</a>\u001b[0m     wiersz \u001b[39m=\u001b[39m contents[\u001b[39m1\u001b[39m:][j]\u001b[39m.\u001b[39msplit(\u001b[39m\"\u001b[39m\u001b[39m\\n\u001b[39;00m\u001b[39m\"\u001b[39m)[\u001b[39m1\u001b[39m:]\n\u001b[1;32m---> <a href='vscode-notebook-cell:/c%3A/Users/Dell/Desktop/projects/adventofcode2023/day5.ipynb#X31sZmlsZQ%3D%3D?line=10'>11</a>\u001b[0m     df \u001b[39m=\u001b[39m df_from_wiersz(wiersz)\n\u001b[0;32m     <a href='vscode-notebook-cell:/c%3A/Users/Dell/Desktop/projects/adventofcode2023/day5.ipynb#X31sZmlsZQ%3D%3D?line=11'>12</a>\u001b[0m     seed \u001b[39m=\u001b[39m calculate_new_seed_from_map(seed, df)\n\u001b[0;32m     <a href='vscode-notebook-cell:/c%3A/Users/Dell/Desktop/projects/adventofcode2023/day5.ipynb#X31sZmlsZQ%3D%3D?line=12'>13</a>\u001b[0m final \u001b[39m=\u001b[39m \u001b[39mmin\u001b[39m(final, seed)  \u001b[39m# Update final with the minimum seed value\u001b[39;00m\n",
      "\u001b[1;32mc:\\Users\\Dell\\Desktop\\projects\\adventofcode2023\\day5.ipynb Cell 15\u001b[0m line \u001b[0;36m4\n\u001b[0;32m      <a href='vscode-notebook-cell:/c%3A/Users/Dell/Desktop/projects/adventofcode2023/day5.ipynb#X31sZmlsZQ%3D%3D?line=0'>1</a>\u001b[0m \u001b[39mdef\u001b[39;00m \u001b[39mdf_from_wiersz\u001b[39m(wiersz):\n\u001b[0;32m      <a href='vscode-notebook-cell:/c%3A/Users/Dell/Desktop/projects/adventofcode2023/day5.ipynb#X31sZmlsZQ%3D%3D?line=1'>2</a>\u001b[0m     df \u001b[39m=\u001b[39m pd\u001b[39m.\u001b[39mDataFrame([s\u001b[39m.\u001b[39msplit(\u001b[39m\"\u001b[39m\u001b[39m \u001b[39m\u001b[39m\"\u001b[39m) \u001b[39mfor\u001b[39;00m s \u001b[39min\u001b[39;00m wiersz], \n\u001b[0;32m      <a href='vscode-notebook-cell:/c%3A/Users/Dell/Desktop/projects/adventofcode2023/day5.ipynb#X31sZmlsZQ%3D%3D?line=2'>3</a>\u001b[0m                       columns\u001b[39m=\u001b[39m[\u001b[39m\"\u001b[39m\u001b[39mrange-start\u001b[39m\u001b[39m\"\u001b[39m,\u001b[39m\"\u001b[39m\u001b[39msource-range-start\u001b[39m\u001b[39m\"\u001b[39m, \u001b[39m\"\u001b[39m\u001b[39mlength\u001b[39m\u001b[39m\"\u001b[39m])\n\u001b[1;32m----> <a href='vscode-notebook-cell:/c%3A/Users/Dell/Desktop/projects/adventofcode2023/day5.ipynb#X31sZmlsZQ%3D%3D?line=3'>4</a>\u001b[0m     df[\u001b[39m'\u001b[39m\u001b[39mrange-start\u001b[39m\u001b[39m'\u001b[39m] \u001b[39m=\u001b[39m df[\u001b[39m'\u001b[39m\u001b[39mrange-start\u001b[39m\u001b[39m'\u001b[39m]\u001b[39m.\u001b[39mastype(\u001b[39m'\u001b[39m\u001b[39mint64\u001b[39m\u001b[39m'\u001b[39m)\n\u001b[0;32m      <a href='vscode-notebook-cell:/c%3A/Users/Dell/Desktop/projects/adventofcode2023/day5.ipynb#X31sZmlsZQ%3D%3D?line=4'>5</a>\u001b[0m     df[\u001b[39m'\u001b[39m\u001b[39msource-range-start\u001b[39m\u001b[39m'\u001b[39m] \u001b[39m=\u001b[39m df[\u001b[39m'\u001b[39m\u001b[39msource-range-start\u001b[39m\u001b[39m'\u001b[39m]\u001b[39m.\u001b[39mastype(\u001b[39m'\u001b[39m\u001b[39mint64\u001b[39m\u001b[39m'\u001b[39m)\n\u001b[0;32m      <a href='vscode-notebook-cell:/c%3A/Users/Dell/Desktop/projects/adventofcode2023/day5.ipynb#X31sZmlsZQ%3D%3D?line=5'>6</a>\u001b[0m     df[\u001b[39m'\u001b[39m\u001b[39mlength\u001b[39m\u001b[39m'\u001b[39m] \u001b[39m=\u001b[39m df[\u001b[39m'\u001b[39m\u001b[39mlength\u001b[39m\u001b[39m'\u001b[39m]\u001b[39m.\u001b[39mastype(\u001b[39m'\u001b[39m\u001b[39mint64\u001b[39m\u001b[39m'\u001b[39m)\n",
      "File \u001b[1;32mc:\\ProgramData\\anaconda3\\Lib\\site-packages\\pandas\\core\\frame.py:3950\u001b[0m, in \u001b[0;36mDataFrame.__setitem__\u001b[1;34m(self, key, value)\u001b[0m\n\u001b[0;32m   3947\u001b[0m     \u001b[39mself\u001b[39m\u001b[39m.\u001b[39m_setitem_array([key], value)\n\u001b[0;32m   3948\u001b[0m \u001b[39melse\u001b[39;00m:\n\u001b[0;32m   3949\u001b[0m     \u001b[39m# set column\u001b[39;00m\n\u001b[1;32m-> 3950\u001b[0m     \u001b[39mself\u001b[39m\u001b[39m.\u001b[39m_set_item(key, value)\n",
      "File \u001b[1;32mc:\\ProgramData\\anaconda3\\Lib\\site-packages\\pandas\\core\\frame.py:4156\u001b[0m, in \u001b[0;36mDataFrame._set_item\u001b[1;34m(self, key, value)\u001b[0m\n\u001b[0;32m   4153\u001b[0m         \u001b[39mif\u001b[39;00m \u001b[39misinstance\u001b[39m(existing_piece, DataFrame):\n\u001b[0;32m   4154\u001b[0m             value \u001b[39m=\u001b[39m np\u001b[39m.\u001b[39mtile(value, (\u001b[39mlen\u001b[39m(existing_piece\u001b[39m.\u001b[39mcolumns), \u001b[39m1\u001b[39m))\u001b[39m.\u001b[39mT\n\u001b[1;32m-> 4156\u001b[0m \u001b[39mself\u001b[39m\u001b[39m.\u001b[39m_set_item_mgr(key, value)\n",
      "File \u001b[1;32mc:\\ProgramData\\anaconda3\\Lib\\site-packages\\pandas\\core\\frame.py:4115\u001b[0m, in \u001b[0;36mDataFrame._set_item_mgr\u001b[1;34m(self, key, value)\u001b[0m\n\u001b[0;32m   4113\u001b[0m     \u001b[39mself\u001b[39m\u001b[39m.\u001b[39m_mgr\u001b[39m.\u001b[39minsert(\u001b[39mlen\u001b[39m(\u001b[39mself\u001b[39m\u001b[39m.\u001b[39m_info_axis), key, value)\n\u001b[0;32m   4114\u001b[0m \u001b[39melse\u001b[39;00m:\n\u001b[1;32m-> 4115\u001b[0m     \u001b[39mself\u001b[39m\u001b[39m.\u001b[39m_iset_item_mgr(loc, value)\n\u001b[0;32m   4117\u001b[0m \u001b[39m# check if we are modifying a copy\u001b[39;00m\n\u001b[0;32m   4118\u001b[0m \u001b[39m# try to set first as we want an invalid\u001b[39;00m\n\u001b[0;32m   4119\u001b[0m \u001b[39m# value exception to occur first\u001b[39;00m\n\u001b[0;32m   4120\u001b[0m \u001b[39mif\u001b[39;00m \u001b[39mlen\u001b[39m(\u001b[39mself\u001b[39m):\n",
      "File \u001b[1;32mc:\\ProgramData\\anaconda3\\Lib\\site-packages\\pandas\\core\\frame.py:4105\u001b[0m, in \u001b[0;36mDataFrame._iset_item_mgr\u001b[1;34m(self, loc, value, inplace)\u001b[0m\n\u001b[0;32m   4101\u001b[0m \u001b[39mdef\u001b[39;00m \u001b[39m_iset_item_mgr\u001b[39m(\n\u001b[0;32m   4102\u001b[0m     \u001b[39mself\u001b[39m, loc: \u001b[39mint\u001b[39m \u001b[39m|\u001b[39m \u001b[39mslice\u001b[39m \u001b[39m|\u001b[39m np\u001b[39m.\u001b[39mndarray, value, inplace: \u001b[39mbool\u001b[39m \u001b[39m=\u001b[39m \u001b[39mFalse\u001b[39;00m\n\u001b[0;32m   4103\u001b[0m ) \u001b[39m-\u001b[39m\u001b[39m>\u001b[39m \u001b[39mNone\u001b[39;00m:\n\u001b[0;32m   4104\u001b[0m     \u001b[39m# when called from _set_item_mgr loc can be anything returned from get_loc\u001b[39;00m\n\u001b[1;32m-> 4105\u001b[0m     \u001b[39mself\u001b[39m\u001b[39m.\u001b[39m_mgr\u001b[39m.\u001b[39miset(loc, value, inplace\u001b[39m=\u001b[39minplace)\n\u001b[0;32m   4106\u001b[0m     \u001b[39mself\u001b[39m\u001b[39m.\u001b[39m_clear_item_cache()\n",
      "File \u001b[1;32mc:\\ProgramData\\anaconda3\\Lib\\site-packages\\pandas\\core\\internals\\managers.py:1200\u001b[0m, in \u001b[0;36mBlockManager.iset\u001b[1;34m(self, loc, value, inplace)\u001b[0m\n\u001b[0;32m   1198\u001b[0m \u001b[39m# Accessing public blknos ensures the public versions are initialized\u001b[39;00m\n\u001b[0;32m   1199\u001b[0m blknos \u001b[39m=\u001b[39m \u001b[39mself\u001b[39m\u001b[39m.\u001b[39mblknos[loc]\n\u001b[1;32m-> 1200\u001b[0m blklocs \u001b[39m=\u001b[39m \u001b[39mself\u001b[39m\u001b[39m.\u001b[39mblklocs[loc]\u001b[39m.\u001b[39mcopy()\n\u001b[0;32m   1202\u001b[0m unfit_mgr_locs \u001b[39m=\u001b[39m []\n\u001b[0;32m   1203\u001b[0m unfit_val_locs \u001b[39m=\u001b[39m []\n",
      "\u001b[1;31mKeyboardInterrupt\u001b[0m: "
     ]
    }
   ],
   "source": [
    "#######\n",
    "print(seed_list)\n",
    "final = float('inf')  # Initialize final with positive infinity\n",
    "for i in range(0, len(seed_list), 2):\n",
    "    print(i/2+1,' para start')\n",
    "    start = seed_list[i]\n",
    "    length = seed_list[i+1]\n",
    "    for seed in range(start, start+length):\n",
    "        for j in range(ile_map):\n",
    "            wiersz = contents[1:][j].split(\"\\n\")[1:]\n",
    "            df = df_from_wiersz(wiersz)\n",
    "            seed = calculate_new_seed_from_map(seed, df)\n",
    "        final = min(final, seed)  # Update final with the minimum seed value\n",
    "final\n"
   ]
  },
  {
   "cell_type": "code",
   "execution_count": null,
   "metadata": {},
   "outputs": [],
   "source": [
    "#######\n",
    "print(seed_list)\n",
    "final = float('inf')  # Initialize final with positive infinity\n",
    "for i in range(0, len(seed_list), 2):\n",
    "    print(i/2+1,' para start')\n",
    "    start = seed_list[i]\n",
    "    length = seed_list[i+1]\n",
    "    for seed in range(start, start+length):\n",
    "        for j in range(ile_map):\n",
    "            wiersz = contents[1:][j].split(\"\\n\")[1:]\n",
    "            df = df_from_wiersz(wiersz)\n",
    "            seed = calculate_new_seed_from_map(seed, df)\n",
    "        final = min(final, seed)  # Update final with the minimum seed value\n",
    "final"
   ]
  },
  {
   "cell_type": "markdown",
   "metadata": {},
   "source": [
    "2276375722 \n",
    "160148132"
   ]
  }
 ],
 "metadata": {
  "kernelspec": {
   "display_name": "base",
   "language": "python",
   "name": "python3"
  },
  "language_info": {
   "codemirror_mode": {
    "name": "ipython",
    "version": 3
   },
   "file_extension": ".py",
   "mimetype": "text/x-python",
   "name": "python",
   "nbconvert_exporter": "python",
   "pygments_lexer": "ipython3",
   "version": "3.11.5"
  }
 },
 "nbformat": 4,
 "nbformat_minor": 2
}
