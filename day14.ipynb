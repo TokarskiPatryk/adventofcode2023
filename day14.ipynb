{
 "cells": [
  {
   "cell_type": "code",
   "execution_count": 2,
   "metadata": {},
   "outputs": [],
   "source": [
    "import numpy as np"
   ]
  },
  {
   "cell_type": "code",
   "execution_count": 3,
   "metadata": {},
   "outputs": [],
   "source": [
    "with open(\"input/day14.txt\") as f:\n",
    "    df = np.array([np.array(list(x)) for x in f.read().split('\\n')])"
   ]
  },
  {
   "cell_type": "code",
   "execution_count": 4,
   "metadata": {},
   "outputs": [
    {
     "data": {
      "text/plain": [
       "array([['.', '.', '.', ..., '#', '.', 'O'],\n",
       "       ['O', '#', '.', ..., '.', '.', '#'],\n",
       "       ['O', '.', '.', ..., '.', '.', '.'],\n",
       "       ...,\n",
       "       ['.', '#', '#', ..., '.', '#', '.'],\n",
       "       ['.', '.', '#', ..., '.', '.', '#'],\n",
       "       ['.', '.', '.', ..., '.', '.', '.']], dtype='<U1')"
      ]
     },
     "execution_count": 4,
     "metadata": {},
     "output_type": "execute_result"
    }
   ],
   "source": [
    "df"
   ]
  },
  {
   "cell_type": "code",
   "execution_count": 5,
   "metadata": {},
   "outputs": [],
   "source": [
    "def find_points(data: np.array):\n",
    "    points = []\n",
    "    for i in range(0, len(data)):\n",
    "        if data[i] == 'O':\n",
    "            points.append(i)\n",
    "    # print(points)\n",
    "    return points"
   ]
  },
  {
   "cell_type": "code",
   "execution_count": 6,
   "metadata": {},
   "outputs": [],
   "source": [
    "import functools\n",
    "\n",
    "#@functools.lru_cache(maxsize=None)\n",
    "def move_recursion(point, i):\n",
    "    if df[i-1][point] == '.' and i > 0:\n",
    "        df[i-1][point] = 'O'\n",
    "        df[i][point] = '.'\n",
    "        move_recursion(point, i-1)\n",
    "    else:\n",
    "        return\n",
    "\n",
    "def move(points: list, i: int):\n",
    "    for point in points:\n",
    "        # print(f'points {points}')\n",
    "        # print(f'point {point}')\n",
    "        move_recursion(point, i)\n",
    "        if i == 0:\n",
    "            return"
   ]
  },
  {
   "cell_type": "code",
   "execution_count": 144,
   "metadata": {},
   "outputs": [
    {
     "data": {
      "text/plain": [
       "array([['O', 'O', '.', 'O', '.', 'O', '.', '.', '#', '#'],\n",
       "       ['.', '.', '.', 'O', 'O', '.', '.', '.', '.', 'O'],\n",
       "       ['.', 'O', '.', '.', '.', '#', 'O', '.', '.', 'O'],\n",
       "       ['.', 'O', '.', '#', '.', '.', '.', '.', '.', '.'],\n",
       "       ['.', '#', '.', 'O', '.', '.', '.', '.', '.', '.'],\n",
       "       ['#', '.', '#', '.', '.', 'O', '#', '.', '#', '#'],\n",
       "       ['.', '.', '#', '.', '.', '.', 'O', '.', '#', '.'],\n",
       "       ['.', '.', '.', '.', 'O', '#', '.', 'O', '#', '.'],\n",
       "       ['.', '.', '.', '.', '#', '.', '.', '.', '.', '.'],\n",
       "       ['.', '#', '.', 'O', '.', '#', 'O', '.', '.', '.']], dtype='<U1')"
      ]
     },
     "execution_count": 144,
     "metadata": {},
     "output_type": "execute_result"
    }
   ],
   "source": [
    "df.transpose()"
   ]
  },
  {
   "cell_type": "code",
   "execution_count": 145,
   "metadata": {},
   "outputs": [
    {
     "name": "stdout",
     "output_type": "stream",
     "text": [
      "[0, 2, 3]\n",
      "[]\n",
      "[0, 1, 4, 9]\n",
      "[1, 7]\n",
      "[0, 5]\n",
      "[2, 6, 9]\n",
      "[7]\n",
      "[]\n",
      "[1, 2]\n"
     ]
    },
    {
     "data": {
      "text/plain": [
       "array([['O', 'O', 'O', 'O', '.', '#', '.', 'O', '.', '.'],\n",
       "       ['O', 'O', '.', '.', '#', '.', '.', '.', '.', '#'],\n",
       "       ['O', 'O', '.', '.', 'O', '#', '#', '.', '.', 'O'],\n",
       "       ['O', '.', '.', '#', '.', 'O', 'O', '.', '.', '.'],\n",
       "       ['.', '.', '.', '.', '.', '.', '.', '.', '#', '.'],\n",
       "       ['.', '.', '#', '.', '.', '.', '.', '#', '.', '#'],\n",
       "       ['.', '.', 'O', '.', '.', '#', '.', 'O', '.', 'O'],\n",
       "       ['.', '.', 'O', '.', '.', '.', '.', '.', '.', '.'],\n",
       "       ['#', '.', '.', '.', '.', '#', '#', '#', '.', '.'],\n",
       "       ['#', '.', '.', '.', '.', '#', '.', '.', '.', '.']], dtype='<U1')"
      ]
     },
     "execution_count": 145,
     "metadata": {},
     "output_type": "execute_result"
    }
   ],
   "source": [
    "for i in range(1,len(df)):\n",
    "    punkty = find_points(df[i])\n",
    "    move(punkty, i)\n",
    "    \n",
    "df #przeniesione zera na gore\n"
   ]
  },
  {
   "cell_type": "code",
   "execution_count": 7,
   "metadata": {},
   "outputs": [],
   "source": [
    "def score(data: np.array):\n",
    "    score = 0\n",
    "    for i in range(0,len(data)):\n",
    "        punkty = find_points(data[i])\n",
    "        score += len(punkty)*(len(data)-i)\n",
    "        #print(score)\n",
    "    return score"
   ]
  },
  {
   "cell_type": "code",
   "execution_count": 30,
   "metadata": {},
   "outputs": [
    {
     "data": {
      "text/plain": [
       "104"
      ]
     },
     "execution_count": 30,
     "metadata": {},
     "output_type": "execute_result"
    }
   ],
   "source": [
    "score(df)"
   ]
  },
  {
   "cell_type": "code",
   "execution_count": 32,
   "metadata": {},
   "outputs": [
    {
     "data": {
      "text/plain": [
       "array([['O', '.', '.', '.', '.', '#', '.', '.', '.', '.'],\n",
       "       ['O', '.', 'O', 'O', '#', '.', '.', '.', '.', '#'],\n",
       "       ['.', '.', '.', '.', '.', '#', '#', '.', '.', '.'],\n",
       "       ['O', 'O', '.', '#', 'O', '.', '.', '.', '.', 'O'],\n",
       "       ['.', 'O', '.', '.', '.', '.', '.', 'O', '#', '.'],\n",
       "       ['O', '.', '#', '.', '.', 'O', '.', '#', '.', '#'],\n",
       "       ['.', '.', 'O', '.', '.', '#', 'O', '.', '.', 'O'],\n",
       "       ['.', '.', '.', '.', '.', '.', '.', 'O', '.', '.'],\n",
       "       ['#', '.', '.', '.', '.', '#', '#', '#', '.', '.'],\n",
       "       ['#', 'O', 'O', '.', '.', '#', '.', '.', '.', '.']], dtype='<U1')"
      ]
     },
     "execution_count": 32,
     "metadata": {},
     "output_type": "execute_result"
    }
   ],
   "source": [
    "df"
   ]
  },
  {
   "cell_type": "code",
   "execution_count": 29,
   "metadata": {},
   "outputs": [
    {
     "name": "stdout",
     "output_type": "stream",
     "text": [
      "0\n",
      "[['.' '.' '.' ... '#' '.' 'O']\n",
      " ['O' '#' '.' ... '.' '.' '#']\n",
      " ['O' '.' '.' ... '.' '.' '.']\n",
      " ...\n",
      " ['.' '#' '#' ... '.' '#' '.']\n",
      " ['.' '.' '#' ... '.' '.' '#']\n",
      " ['.' '.' '.' ... '.' '.' '.']]\n",
      "102334\n",
      "[['.' '.' '.' ... '#' '.' '.']\n",
      " ['.' '#' '.' ... '.' '.' '#']\n",
      " ['.' '.' '.' ... 'O' 'O' 'O']\n",
      " ...\n",
      " ['.' '#' '#' ... 'O' '#' 'O']\n",
      " ['.' '.' '#' ... 'O' 'O' '#']\n",
      " ['.' '.' '.' ... 'O' 'O' 'O']]\n",
      "102500\n",
      "20.067001819610596\n"
     ]
    }
   ],
   "source": [
    "with open(\"input/day14.txt\") as f:\n",
    "    df = np.array([np.array(list(x)) for x in f.read().split('\\n')])\n",
    "import time\n",
    "start = time.time()\n",
    "\n",
    "df_punkty = []\n",
    "ile_cykli = 300\n",
    "for xx in range(ile_cykli):\n",
    "    df_punkty.append(score(df))\n",
    "\n",
    "    if xx % 100000 == 0:\n",
    "        print(xx)\n",
    "        print(df)\n",
    "        print(score(df))\n",
    "    for x in range(0,4):\n",
    "        for i in range(1,len(df)):\n",
    "            punkty = find_points(df[i])\n",
    "            move(punkty, i)\n",
    "        df = np.rot90(df, 1, (1,0)) # przeciwnie do zegara\n",
    " \n",
    "\n",
    "print(df)\n",
    "print(score(df))\n",
    "end = time.time()\n",
    "print(end-start)"
   ]
  },
  {
   "cell_type": "code",
   "execution_count": 30,
   "metadata": {},
   "outputs": [
    {
     "data": {
      "text/plain": [
       "300"
      ]
     },
     "execution_count": 30,
     "metadata": {},
     "output_type": "execute_result"
    }
   ],
   "source": [
    "len(df_punkty) # 0...299"
   ]
  },
  {
   "cell_type": "code",
   "execution_count": 59,
   "metadata": {},
   "outputs": [
    {
     "data": {
      "image/png": "[encoded data removed]",
      "text/plain": [
       "<Figure size 640x480 with 1 Axes>"
      ]
     },
     "metadata": {},
     "output_type": "display_data"
    }
   ],
   "source": [
    "#plot df_punkty (vector)\n",
    "import matplotlib.pyplot as plt\n",
    "\n",
    "plt.plot(df_punkty[198:217])\n",
    "plt.show()"
   ]
  },
  {
   "cell_type": "code",
   "execution_count": 47,
   "metadata": {},
   "outputs": [
    {
     "data": {
      "text/plain": [
       "102500"
      ]
     },
     "execution_count": 47,
     "metadata": {},
     "output_type": "execute_result"
    }
   ],
   "source": [
    "df_punkty[100]\n",
    "df_punkty[108]\n",
    "\n",
    "df_punkty[201]"
   ]
  },
  {
   "cell_type": "code",
   "execution_count": 68,
   "metadata": {},
   "outputs": [
    {
     "data": {
      "text/plain": [
       "1"
      ]
     },
     "execution_count": 68,
     "metadata": {},
     "output_type": "execute_result"
    }
   ],
   "source": [
    "x = (298 - 198) % 9\n",
    "x"
   ]
  },
  {
   "cell_type": "code",
   "execution_count": 69,
   "metadata": {},
   "outputs": [
    {
     "data": {
      "text/plain": [
       "1"
      ]
     },
     "execution_count": 69,
     "metadata": {},
     "output_type": "execute_result"
    }
   ],
   "source": [
    "(1000000000 - 198) % 9"
   ]
  },
  {
   "cell_type": "code",
   "execution_count": 70,
   "metadata": {},
   "outputs": [
    {
     "data": {
      "text/plain": [
       "102509"
      ]
     },
     "execution_count": 70,
     "metadata": {},
     "output_type": "execute_result"
    }
   ],
   "source": [
    "df_punkty[298]"
   ]
  },
  {
   "cell_type": "code",
   "execution_count": null,
   "metadata": {},
   "outputs": [],
   "source": [
    "102509"
   ]
  },
  {
   "cell_type": "markdown",
   "metadata": {},
   "source": [
    "x - punkt ktorego chcemy znac wartosc\n",
    "(x - (punkt rozpoczenia cyklu)) % dł_cyklu\n"
   ]
  },
  {
   "cell_type": "code",
   "execution_count": 60,
   "metadata": {},
   "outputs": [
    {
     "data": {
      "text/plain": [
       "[102512,\n",
       " 102509,\n",
       " 102505,\n",
       " 102500,\n",
       " 102498,\n",
       " 102507,\n",
       " 102504,\n",
       " 102497,\n",
       " 102507,\n",
       " 102512,\n",
       " 102509,\n",
       " 102505,\n",
       " 102500,\n",
       " 102498,\n",
       " 102507,\n",
       " 102504,\n",
       " 102497,\n",
       " 102507,\n",
       " 102512]"
      ]
     },
     "execution_count": 60,
     "metadata": {},
     "output_type": "execute_result"
    }
   ],
   "source": []
  },
  {
   "cell_type": "markdown",
   "metadata": {},
   "source": [
    "100 - ..12\n",
    "\n",
    "107 - \n",
    "108 - ..12\n",
    "100:107\n",
    "102512, 102505, 102500, 102498, 102507, 102504, 102497, 102507"
   ]
  },
  {
   "cell_type": "code",
   "execution_count": 39,
   "metadata": {},
   "outputs": [
    {
     "data": {
      "text/plain": [
       "array([['#', '#', '.', '.', '.', 'O', 'O', 'O', 'O', 'O'],\n",
       "       ['O', 'O', '.', '.', '.', '.', '.', 'O', 'O', 'O'],\n",
       "       ['O', '.', '.', '.', '#', '.', '.', '.', '.', '.'],\n",
       "       ['.', '.', '.', '.', '.', '.', '#', '.', '.', '.'],\n",
       "       ['.', '.', '.', '.', '.', '.', 'O', '.', '#', '.'],\n",
       "       ['#', '#', '.', '#', '.', '.', 'O', '#', '.', '#'],\n",
       "       ['O', '#', '.', '.', '.', '.', '.', '#', '.', 'O'],\n",
       "       ['O', '#', '.', '.', '#', '.', '.', '.', '.', '.'],\n",
       "       ['.', 'O', '.', '.', '.', '#', '.', '.', '.', '.'],\n",
       "       ['.', '.', '.', '.', '#', 'O', '.', '.', '#', '.']], dtype='<U1')"
      ]
     },
     "execution_count": 39,
     "metadata": {},
     "output_type": "execute_result"
    }
   ],
   "source": [
    "np.rot90(df, 1, (1,0))"
   ]
  },
  {
   "cell_type": "code",
   "execution_count": 157,
   "metadata": {},
   "outputs": [
    {
     "data": {
      "text/plain": [
       "array([['O', 'O', 'O', 'O', '.', '#', '.', 'O', '.', '.'],\n",
       "       ['O', 'O', '.', '.', '#', '.', '.', '.', '.', '#'],\n",
       "       ['O', 'O', '.', '.', 'O', '#', '#', '.', '.', 'O'],\n",
       "       ['O', '.', '.', '#', '.', 'O', 'O', '.', '.', '.'],\n",
       "       ['.', '.', '.', '.', '.', '.', '.', '.', '#', '.'],\n",
       "       ['.', '.', '#', '.', '.', '.', '.', '#', '.', '#'],\n",
       "       ['.', '.', 'O', '.', '.', '#', '.', 'O', '.', 'O'],\n",
       "       ['.', '.', 'O', '.', '.', '.', '.', '.', '.', '.'],\n",
       "       ['#', '.', '.', '.', '.', '#', '#', '#', '.', '.'],\n",
       "       ['#', '.', '.', '.', '.', '#', '.', '.', '.', '.']], dtype='<U1')"
      ]
     },
     "execution_count": 157,
     "metadata": {},
     "output_type": "execute_result"
    }
   ],
   "source": [
    "df"
   ]
  }
 ],
 "metadata": {
  "kernelspec": {
   "display_name": "base",
   "language": "python",
   "name": "python3"
  },
  "language_info": {
   "codemirror_mode": {
    "name": "ipython",
    "version": 3
   },
   "file_extension": ".py",
   "mimetype": "text/x-python",
   "name": "python",
   "nbconvert_exporter": "python",
   "pygments_lexer": "ipython3",
   "version": "3.11.5"
  }
 },
 "nbformat": 4,
 "nbformat_minor": 2
}
