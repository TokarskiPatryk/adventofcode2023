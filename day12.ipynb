{
 "cells": [
  {
   "cell_type": "code",
   "execution_count": 1,
   "metadata": {},
   "outputs": [],
   "source": [
    "import numpy as np\n",
    "import re"
   ]
  },
  {
   "cell_type": "code",
   "execution_count": 2,
   "metadata": {},
   "outputs": [],
   "source": [
    "# 0 - trzeba zamienic na . albo 1\n",
    "with open(\"input/test.txt\") as f:\n",
    "    content = f.read().replace('#',\"1\").replace('?', \"0\").split('\\n')\n",
    "    content = [x.split(' ') for x in content]"
   ]
  },
  {
   "cell_type": "code",
   "execution_count": 3,
   "metadata": {},
   "outputs": [],
   "source": [
    "content = np.array(content)\n",
    "mapa = content[:,0]\n",
    "dane = [[int(x) for x in line.split(',')] for line in content[:,1]]"
   ]
  },
  {
   "cell_type": "code",
   "execution_count": 4,
   "metadata": {},
   "outputs": [
    {
     "data": {
      "text/plain": [
       "array(['000.111', '.00..00...011.', '010101010101010', '0000.1...1...',\n",
       "       '0000.111111..11111.', '011100000000'], dtype='<U19')"
      ]
     },
     "execution_count": 4,
     "metadata": {},
     "output_type": "execute_result"
    }
   ],
   "source": [
    "mapa "
   ]
  },
  {
   "cell_type": "code",
   "execution_count": 5,
   "metadata": {},
   "outputs": [
    {
     "data": {
      "text/plain": [
       "[[1, 1, 3], [1, 1, 3], [1, 3, 1, 6], [4, 1, 1], [1, 6, 5], [3, 2, 1]]"
      ]
     },
     "execution_count": 5,
     "metadata": {},
     "output_type": "execute_result"
    }
   ],
   "source": [
    "dane"
   ]
  },
  {
   "cell_type": "code",
   "execution_count": 6,
   "metadata": {},
   "outputs": [
    {
     "name": "stdout",
     "output_type": "stream",
     "text": [
      "ile_brakuje: [2 3 4 4 1 3]\n",
      "ile_powinno_byc_1: [ 5  5 11  6 12  6]\n",
      "ile_powinno_byc_1-ile_brakuje: [ 3  2  7  2 11  3]\n"
     ]
    }
   ],
   "source": [
    "ile_powinno_byc_1 = np.array([sum(line) for line in dane])\n",
    "ile_jest_1 = np.array([i.count('1') for i in mapa])\n",
    "\n",
    "ile_brakuje = ile_powinno_byc_1 - ile_jest_1\n",
    "\n",
    "print(f'ile_brakuje: {ile_brakuje}')\n",
    "print(f'ile_powinno_byc_1: {ile_powinno_byc_1}')\n",
    "print(f'ile_powinno_byc_1-ile_brakuje: {ile_powinno_byc_1-ile_brakuje}')"
   ]
  },
  {
   "cell_type": "markdown",
   "metadata": {},
   "source": [
    "Sprawdzić każdą możliwość ustawienia ile_brakuje[i] elementów na miejscach z 0, a na reszcie rozmieścić kropki"
   ]
  },
  {
   "cell_type": "code",
   "execution_count": 7,
   "metadata": {},
   "outputs": [],
   "source": [
    "import math\n",
    "import itertools"
   ]
  },
  {
   "cell_type": "code",
   "execution_count": 14,
   "metadata": {},
   "outputs": [
    {
     "ename": "TypeError",
     "evalue": "unhashable type: 'list'",
     "output_type": "error",
     "traceback": [
      "\u001b[1;31m---------------------------------------------------------------------------\u001b[0m",
      "\u001b[1;31mTypeError\u001b[0m                                 Traceback (most recent call last)",
      "Cell \u001b[1;32mIn[14], line 12\u001b[0m\n\u001b[0;32m      9\u001b[0m     \u001b[38;5;28;01melse\u001b[39;00m:\n\u001b[0;32m     10\u001b[0m         \u001b[38;5;28;01mreturn\u001b[39;00m \u001b[38;5;28;01mFalse\u001b[39;00m\n\u001b[1;32m---> 12\u001b[0m check(testowy, weryfikacja)\n",
      "\u001b[1;31mTypeError\u001b[0m: unhashable type: 'list'"
     ]
    }
   ],
   "source": [
    "testowy = \"1.1.11..111.\"\n",
    "weryfikacja = [2, 2, 3]\n",
    "\n",
    "@functools.cache\n",
    "def check(row_line, number_of_ones):\n",
    "    number_to_check = re.split(r'\\.+', row_line)\n",
    "    if [row.count('1') for row in number_to_check if row != ''] == number_of_ones:\n",
    "        return True\n",
    "    else:\n",
    "        return False\n",
    "\n",
    "check(testowy, weryfikacja)\n"
   ]
  },
  {
   "cell_type": "code",
   "execution_count": 9,
   "metadata": {},
   "outputs": [
    {
     "name": "stdout",
     "output_type": "stream",
     "text": [
      "('.00..00...011.', 3, 5, [1, 1, 3])\n",
      "('000.111', 2, 5, [1, 1, 3])\n",
      "4\n",
      "1\n"
     ]
    }
   ],
   "source": [
    "testowy = '.00..00...011.'\n",
    "ile_brakuje[1] # 3 \n",
    "ile_powinno_byc_1[1] # 5\n",
    "\n",
    "#bruteforce\n",
    "\n",
    "def zlicz_mozliwosci(line: str, ile_brak, ile_powinno, numb):\n",
    "    ile = 0\n",
    "    tekst = ''.join(['1'*ile_brak, '.'*(ile_powinno-ile_brak)])\n",
    "    #print(tekst)\n",
    "\n",
    "    permutations = itertools.permutations(tekst, int(ile_powinno))\n",
    "    distinct_permutations = list(set(permutations))\n",
    "\n",
    "    for perm in distinct_permutations:\n",
    "        #kazda mozliwosc ('.', '1', '1', '1', '.')\n",
    "        \n",
    "        ###print(perm)\n",
    "\n",
    "        line2 = line\n",
    "        #j+=1\n",
    "        # wstawianie to line (w miejsce 0) i check\n",
    "        for i in perm:\n",
    "            line2 = line2.replace('0', i, 1)\n",
    "        #print(line2)\n",
    "        if check(line2, numb):\n",
    "            ile += 1\n",
    "    return ile\n",
    "\n",
    "    #print(j)\n",
    "    #print(distinct_permutations)\n",
    "print((mapa[1], ile_brakuje[1], ile_powinno_byc_1[1], dane[1]))\n",
    "print((mapa[0], ile_brakuje[0], ile_powinno_byc_1[0], dane[0]))\n",
    "#print((mapa[2], ile_brakuje[2], ile_powinno_byc_1[2], dane[2]))\n",
    "\n",
    "print(zlicz_mozliwosci(mapa[1], ile_brakuje[1], ile_powinno_byc_1[1], dane[1]))\n",
    "print(zlicz_mozliwosci(mapa[0], ile_brakuje[0], ile_powinno_byc_1[0], dane[0]))\n"
   ]
  },
  {
   "cell_type": "code",
   "execution_count": null,
   "metadata": {},
   "outputs": [],
   "source": []
  },
  {
   "cell_type": "code",
   "execution_count": null,
   "metadata": {},
   "outputs": [],
   "source": [
    "testowy = \"1.1.11..111.\"\n",
    "weryfikacja = [2, 2, 3]\n",
    "\n",
    "@functools.cache\n",
    "def check(row_line, number_of_ones):\n",
    "    number_to_check = re.split(r'\\.+', row_line)\n",
    "    if [row.count('1') for row in number_to_check if row != ''] == number_of_ones:\n",
    "        return True\n",
    "    else:\n",
    "        return False\n",
    "\n",
    "check(testowy, weryfikacja)\n",
    "\n",
    "\n",
    "\n",
    "def zlicz_mozliwosci(i):\n",
    "    ile = 0\n",
    "    tekst = ''.join(['1'*ile_brakuje[i], '.'*(ile_powinno_byc_1[i]-ile_brakuje[i])])\n",
    "    #print(tekst)\n",
    "\n",
    "    permutations = itertools.permutations(tekst, int(ile_powinno_byc_1[i]))\n",
    "    distinct_permutations = list(set(permutations))\n",
    "\n",
    "    for perm in distinct_permutations:\n",
    "        #kazda mozliwosc ('.', '1', '1', '1', '.')\n",
    "        \n",
    "        ###print(perm)\n",
    "\n",
    "        line2 = mapa[i]\n",
    "        #j+=1\n",
    "        # wstawianie to line (w miejsce 0) i check\n",
    "        for j in perm:\n",
    "            line2 = line2.replace('0', j, 1)\n",
    "        #print(line2)\n",
    "        if check(line2, dane[i]):\n",
    "            ile += 1\n",
    "    return ile\n",
    "\n",
    "    #print(j)\n",
    "    #print(distinct_permutations)\n",
    "print((mapa[1], ile_brakuje[1], ile_powinno_byc_1[1], dane[1]))\n",
    "print((mapa[0], ile_brakuje[0], ile_powinno_byc_1[0], dane[0]))\n",
    "#print((mapa[2], ile_brakuje[2], ile_powinno_byc_1[2], dane[2]))\n",
    "\n",
    "print(zlicz_mozliwosci(mapa[1], ile_brakuje[1], ile_powinno_byc_1[1], dane[1]))\n",
    "print(zlicz_mozliwosci(mapa[0], ile_brakuje[0], ile_powinno_byc_1[0], dane[0]))\n"
   ]
  },
  {
   "cell_type": "code",
   "execution_count": null,
   "metadata": {},
   "outputs": [],
   "source": []
  },
  {
   "cell_type": "code",
   "execution_count": 12,
   "metadata": {},
   "outputs": [],
   "source": [
    "import functools"
   ]
  },
  {
   "cell_type": "code",
   "execution_count": 10,
   "metadata": {},
   "outputs": [
    {
     "name": "stdout",
     "output_type": "stream",
     "text": [
      "start: 0 sum = 0\n",
      "start: 1 sum = 1\n",
      "start: 2 sum = 5\n",
      "start: 3 sum = 6\n",
      "start: 4 sum = 7\n",
      "start: 5 sum = 11\n"
     ]
    }
   ],
   "source": [
    "sum = 0\n",
    "for i in range(len(mapa)):\n",
    "    print(f'start: {i} sum = {sum}')\n",
    "    sum += zlicz_mozliwosci(mapa[i], ile_brakuje[i], ile_powinno_byc_1[i], dane[i])\n"
   ]
  },
  {
   "cell_type": "code",
   "execution_count": 11,
   "metadata": {},
   "outputs": [
    {
     "data": {
      "text/plain": [
       "12"
      ]
     },
     "execution_count": 11,
     "metadata": {},
     "output_type": "execute_result"
    }
   ],
   "source": [
    "sum"
   ]
  },
  {
   "cell_type": "markdown",
   "metadata": {},
   "source": [
    "Sprawdzenie : podzielenie stringa przez kropki, suma \"1\" i weryfikacja z dane[i]"
   ]
  },
  {
   "cell_type": "code",
   "execution_count": 25,
   "metadata": {},
   "outputs": [],
   "source": [
    "from timeout_decorator import timeout, TimeoutError\n",
    "import signal"
   ]
  },
  {
   "cell_type": "code",
   "execution_count": 26,
   "metadata": {},
   "outputs": [
    {
     "name": "stdout",
     "output_type": "stream",
     "text": [
      "An error occurred: module 'signal' has no attribute 'SIGALRM'\n"
     ]
    }
   ],
   "source": [
    "\n",
    "# Assuming zlicz_mozliwosci is a function you've defined elsewhere\n",
    "\n",
    "@timeout(5)\n",
    "def run_code(mapa, ile_brakuje, ile_powinno_byc_1, dane):\n",
    "    sum = 0\n",
    "    for i in range(len(mapa)):\n",
    "        print(f'start: {i} sum = {sum}')\n",
    "        sum += zlicz_mozliwosci(mapa[i], ile_brakuje[i], ile_powinno_byc_1[i], dane[i])\n",
    "\n",
    "try:\n",
    "    run_code(mapa, ile_brakuje, ile_powinno_byc_1, dane)\n",
    "except TimeoutError:\n",
    "    print(\"Timeout: Execution took longer than 5 seconds.\")\n",
    "except Exception as e:\n",
    "    print(f\"An error occurred: {e}\")\n"
   ]
  }
 ],
 "metadata": {
  "kernelspec": {
   "display_name": "base",
   "language": "python",
   "name": "python3"
  },
  "language_info": {
   "codemirror_mode": {
    "name": "ipython",
    "version": 3
   },
   "file_extension": ".py",
   "mimetype": "text/x-python",
   "name": "python",
   "nbconvert_exporter": "python",
   "pygments_lexer": "ipython3",
   "version": "3.11.5"
  }
 },
 "nbformat": 4,
 "nbformat_minor": 2
}
