{
 "cells": [
  {
   "cell_type": "code",
   "execution_count": 1,
   "metadata": {},
   "outputs": [],
   "source": [
    "import pandas as pd\n",
    "import numpy as np\n",
    "#replaced : to ; in the csv file"
   ]
  },
  {
   "cell_type": "code",
   "execution_count": 143,
   "metadata": {},
   "outputs": [],
   "source": [
    "# Read lines from the input file\n",
    "with open('input/day2.csv', 'r') as file:\n",
    "    lines = file.readlines()\n"
   ]
  },
  {
   "cell_type": "code",
   "execution_count": 99,
   "metadata": {},
   "outputs": [],
   "source": [
    "def line_calc(line):\n",
    "        gamenr = [word for word in line.split()]\n",
    "        gamenr = int(gamenr[1].replace(\":\",''))\n",
    "\n",
    "        points = [int(num) for num in line.split() if num.isdigit()]\n",
    "\n",
    "        splitted = line.replace(\",\",\" \").replace(\";\", \" \").split()\n",
    "        colors = [str(color) for color in splitted if color.isalpha()]\n",
    "        colors = colors[1:]\n",
    "\n",
    "\n",
    "        for point in range(len(points)):\n",
    "            if colors[point] == \"red\" and points[point] > 12:\n",
    "                return 0\n",
    "            if colors[point] == \"blue\" and points[point] > 14:\n",
    "                return 0\n",
    "            if colors[point] == \"green\" and points[point] > 13:\n",
    "                return 0\n",
    "        return gamenr\n",
    "\n",
    "def part1(lines):\n",
    "    sum = 0\n",
    "    for line in lines:\n",
    "        sum+=line_calc(line)\n",
    "    \n",
    "    return sum"
   ]
  },
  {
   "cell_type": "code",
   "execution_count": 102,
   "metadata": {},
   "outputs": [
    {
     "data": {
      "text/plain": [
       "2406"
      ]
     },
     "execution_count": 102,
     "metadata": {},
     "output_type": "execute_result"
    }
   ],
   "source": [
    "part1(lines)"
   ]
  },
  {
   "cell_type": "code",
   "execution_count": 141,
   "metadata": {},
   "outputs": [],
   "source": [
    "def line_calc2(line):\n",
    "        gamenr = [word for word in line.split()]\n",
    "        gamenr = int(gamenr[1].replace(\":\",''))\n",
    "\n",
    "        points = [int(num) for num in line.split() if num.isdigit()]\n",
    "\n",
    "        splitted = line.replace(\",\",\" \").replace(\";\", \" \").split()\n",
    "        colors = [str(color) for color in splitted if color.isalpha()]\n",
    "        colors = colors[1:]\n",
    "\n",
    "        r = 1\n",
    "        g = 1\n",
    "        b = 1\n",
    "\n",
    "        for point in range(len(points)):\n",
    "            if colors[point] == \"red\":\n",
    "                if points[point] > r:\n",
    "                    r = points[point]\n",
    "            if colors[point] == \"blue\":\n",
    "                if points[point] > b:\n",
    "                    b = points[point]\n",
    "            if colors[point] == \"green\":\n",
    "                if points[point] > g:\n",
    "                    g = points[point]\n",
    "\n",
    "        return r*b*g\n",
    "\n",
    "def part2(lines):\n",
    "    sum_of_power= 0\n",
    "    for line in lines:\n",
    "        sum_of_power+=line_calc2(line)\n",
    "    \n",
    "    return sum_of_power "
   ]
  },
  {
   "cell_type": "code",
   "execution_count": 144,
   "metadata": {},
   "outputs": [
    {
     "data": {
      "text/plain": [
       "78375"
      ]
     },
     "execution_count": 144,
     "metadata": {},
     "output_type": "execute_result"
    }
   ],
   "source": [
    "line_test = ['Game 1: 3 blue, 4 red; 1 red, 2 green, 6 blue; 2 green',\n",
    "'Game 2: 1 blue, 2 green; 3 green, 4 blue, 1 red; 1 green, 1 blue',\n",
    "'Game 3: 8 green, 6 blue, 20 red; 5 blue, 4 red, 13 green; 5 green, 1 red',\n",
    "'Game 4: 1 green, 3 red, 6 blue; 3 green, 6 red; 3 green, 15 blue, 14 red',\n",
    "'Game 5: 6 red, 1 blue, 3 green; 2 blue, 1 red, 2 green']\n",
    "\n",
    "part2(lines)"
   ]
  },
  {
   "cell_type": "code",
   "execution_count": null,
   "metadata": {},
   "outputs": [],
   "source": []
  }
 ],
 "metadata": {
  "kernelspec": {
   "display_name": "base",
   "language": "python",
   "name": "python3"
  },
  "language_info": {
   "codemirror_mode": {
    "name": "ipython",
    "version": 3
   },
   "file_extension": ".py",
   "mimetype": "text/x-python",
   "name": "python",
   "nbconvert_exporter": "python",
   "pygments_lexer": "ipython3",
   "version": "3.11.5"
  }
 },
 "nbformat": 4,
 "nbformat_minor": 2
}
