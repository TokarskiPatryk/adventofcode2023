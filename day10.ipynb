{
 "cells": [
  {
   "cell_type": "code",
   "execution_count": 1,
   "metadata": {},
   "outputs": [],
   "source": [
    "import numpy as np"
   ]
  },
  {
   "cell_type": "code",
   "execution_count": 4,
   "metadata": {},
   "outputs": [],
   "source": [
    "with open(\"input/test.txt\", \"r\") as file:\n",
    "    contents = file.read()"
   ]
  },
  {
   "cell_type": "code",
   "execution_count": 34,
   "metadata": {},
   "outputs": [
    {
     "name": "stdout",
     "output_type": "stream",
     "text": [
      "S = [2 0]\n"
     ]
    }
   ],
   "source": [
    "dane = contents.split(\"\\n\")\n",
    "\n",
    "dane = np.array(dane).astype(str)\n",
    "\n",
    "def findS(dane):\n",
    "    for x in range(len(dane)):\n",
    "        for y in range(len(dane[x])):\n",
    "            if dane[x][y] == \"S\":\n",
    "                return [x,y]\n",
    "\n",
    "S = np.array(findS(dane))\n",
    "print(f'S = {S}')"
   ]
  },
  {
   "cell_type": "code",
   "execution_count": 35,
   "metadata": {},
   "outputs": [
    {
     "data": {
      "text/plain": [
       "array([3, 0])"
      ]
     },
     "execution_count": 35,
     "metadata": {},
     "output_type": "execute_result"
    }
   ],
   "source": [
    "# Wybranie kierunku \n",
    "\n",
    "\n",
    "type(S[0])\n",
    "S + [1,0]"
   ]
  },
  {
   "cell_type": "code",
   "execution_count": 41,
   "metadata": {},
   "outputs": [
    {
     "name": "stdout",
     "output_type": "stream",
     "text": [
      "new_pos = [3 0]\n",
      "Jestem na |\n",
      "new_pos = [4 0]\n",
      "Jestem na L\n",
      "new_pos = [4 1]\n",
      "Jestem na J\n",
      "new_pos = [3 1]\n",
      "Jestem na F\n",
      "new_pos = [3 2]\n",
      "Jestem na -\n",
      "new_pos = [3 3]\n",
      "Jestem na -\n",
      "new_pos = [3 4]\n",
      "Jestem na J\n",
      "new_pos = [2 4]\n",
      "Jestem na 7\n",
      "new_pos = [2 3]\n",
      "Jestem na L\n",
      "new_pos = [1 3]\n",
      "Jestem na |\n",
      "new_pos = [0 3]\n",
      "Jestem na 7\n",
      "new_pos = [0 2]\n",
      "Jestem na F\n",
      "new_pos = [1 2]\n",
      "Jestem na J\n",
      "new_pos = [1 1]\n",
      "Jestem na F\n",
      "new_pos = [2 1]\n",
      "Jestem na J\n",
      "new_pos = [2 0]\n",
      "Jestem na S\n",
      "ilosc krokow = 0\n"
     ]
    }
   ],
   "source": [
    "# dostaje obecna pozycje i kierunek, zwraca nowa pozycje i kierunek\n",
    "\n",
    "def move(pos: np.array, next_pos: np.array) -> tuple:\n",
    "    ilosc_krokow =0\n",
    "    new_pos = pos + next_pos\n",
    "    # | - L J 7 F . S\n",
    "    print(f'new_pos = {new_pos}')\n",
    "    if dane[new_pos[0]][new_pos[1]] == \"|\":\n",
    "        print(\"Jestem na |\")\n",
    "        if next_pos == [1,0]:\n",
    "            move(new_pos, [1,0])\n",
    "        elif next_pos == [-1,0]:\n",
    "            move(new_pos, [-1,0])\n",
    "    elif dane[new_pos[0]][new_pos[1]] == \"-\":\n",
    "        print(\"Jestem na -\")\n",
    "        if next_pos == [0,1]:\n",
    "            move(new_pos, [0,1])\n",
    "        elif next_pos == [0,-1]:\n",
    "            move(new_pos, [0,-1])\n",
    "    elif dane[new_pos[0]][new_pos[1]] == \"L\":\n",
    "        print(\"Jestem na L\")\n",
    "        if next_pos == [1,0]:\n",
    "            move(new_pos, [0,1])\n",
    "        elif next_pos == [0,-1]:\n",
    "            move(new_pos, [-1,0])\n",
    "    elif dane[new_pos[0]][new_pos[1]] == \"J\":\n",
    "        print(\"Jestem na J\")\n",
    "        if next_pos == [1,0]:\n",
    "            move(new_pos, [0,-1])\n",
    "        elif next_pos == [0,1]:\n",
    "            move(new_pos, [-1,0])\n",
    "    elif dane[new_pos[0]][new_pos[1]] == \"7\":\n",
    "        print(\"Jestem na 7\")\n",
    "        if next_pos == [-1,0]:\n",
    "            move(new_pos, [0,-1])\n",
    "        elif next_pos == [0,1]:\n",
    "            move(new_pos, [1,0])\n",
    "    elif dane[new_pos[0]][new_pos[1]] == \"F\":\n",
    "        print(\"Jestem na F\")\n",
    "        if next_pos == [-1,0]:\n",
    "            move(new_pos, [0,1])\n",
    "        elif next_pos == [0,-1]:\n",
    "            move(new_pos, [1,0])\n",
    "    elif dane[new_pos[0]][new_pos[1]] == \".\":\n",
    "        print(\"Jestem na .\")\n",
    "        print(f'new_pos = {new_pos}')\n",
    "        return new_pos, next_pos\n",
    "    elif dane[new_pos[0]][new_pos[1]] == \"S\":\n",
    "        print(\"Jestem na S\")\n",
    "        print(f'ilosc krokow = {ilosc_krokow}')\n",
    "    \n",
    "        \n",
    "\n",
    "\n",
    "\n",
    "   \n",
    "move(S, [1,0])\n"
   ]
  }
 ],
 "metadata": {
  "kernelspec": {
   "display_name": "base",
   "language": "python",
   "name": "python3"
  },
  "language_info": {
   "codemirror_mode": {
    "name": "ipython",
    "version": 3
   },
   "file_extension": ".py",
   "mimetype": "text/x-python",
   "name": "python",
   "nbconvert_exporter": "python",
   "pygments_lexer": "ipython3",
   "version": "3.11.5"
  }
 },
 "nbformat": 4,
 "nbformat_minor": 2
}
