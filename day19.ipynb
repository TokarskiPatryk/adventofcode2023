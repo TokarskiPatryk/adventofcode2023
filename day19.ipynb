{
 "cells": [
  {
   "cell_type": "code",
   "execution_count": 1,
   "metadata": {},
   "outputs": [],
   "source": [
    "import numpy as np"
   ]
  },
  {
   "cell_type": "code",
   "execution_count": 51,
   "metadata": {},
   "outputs": [
    {
     "name": "stdout",
     "output_type": "stream",
     "text": [
      "[{'m': '2655'}, {'m': '44'}, {'m': '264'}, {'m': '1339'}, {'m': '1623'}]\n"
     ]
    }
   ],
   "source": [
    "with open('input/test.txt') as f:\n",
    "    rules, parts = f.read().split('\\n\\n')\n",
    "    rules = np.array(rules.split('\\n'))\n",
    "    rules = np.array([rule.replace('}','').split('{') for rule in rules])\n",
    "    rules = dict(zip(rules[:,0], rules[:,1]))\n",
    "    rules.update((x, y.split(',')) for x, y in rules.items())\n",
    "\n",
    "\n",
    "    parts = [x.split(',') for x in np.array(parts.replace('{','').replace('}','').split('\\n'))]\n",
    "    parts = [dict(zip(x[1].split('=')[0], x[1].split('=')[1:])) for x in parts] # x to lista, a ma byc dict\n",
    "#print(rules) # dict: key=rule_name value = list['a<1006:destination_rule_name', ..., last_rule_name] # last is without eval\n",
    "print(parts)"
   ]
  },
  {
   "cell_type": "code",
   "execution_count": 19,
   "metadata": {},
   "outputs": [
    {
     "name": "stdout",
     "output_type": "stream",
     "text": [
      "[['px' 'a<2006:qkq,m>2090:A,rfg']\n",
      " ['pv' 'a>1716:R,A']\n",
      " ['lnx' 'm>1548:A,A']\n",
      " ['rfg' 's<537:gd,x>2440:R,A']\n",
      " ['qs' 's>3448:A,lnx']\n",
      " ['qkq' 'x<1416:A,crn']\n",
      " ['crn' 'x>2662:A,R']\n",
      " ['in' 's<1351:px,qqz']\n",
      " ['qqz' 's>2770:qs,m<1801:hdj,R']\n",
      " ['gd' 'a>3333:R,R']\n",
      " ['hdj' 'm>838:A,pv']]\n",
      "['{x=787,m=2655,a=1222,s=2876}' '{x=1679,m=44,a=2067,s=496}'\n",
      " '{x=2036,m=264,a=79,s=2244}' '{x=2461,m=1339,a=466,s=291}'\n",
      " '{x=2127,m=1623,a=2188,s=1013}']\n"
     ]
    }
   ],
   "source": []
  },
  {
   "cell_type": "code",
   "execution_count": 15,
   "metadata": {},
   "outputs": [
    {
     "data": {
      "text/plain": [
       "array([['px', 'a<2006:qkq,m>2090:A,rfg}'],\n",
       "       ['pv', 'a>1716:R,A}'],\n",
       "       ['lnx', 'm>1548:A,A}'],\n",
       "       ['rfg', 's<537:gd,x>2440:R,A}'],\n",
       "       ['qs', 's>3448:A,lnx}'],\n",
       "       ['qkq', 'x<1416:A,crn}'],\n",
       "       ['crn', 'x>2662:A,R}'],\n",
       "       ['in', 's<1351:px,qqz}'],\n",
       "       ['qqz', 's>2770:qs,m<1801:hdj,R}'],\n",
       "       ['gd', 'a>3333:R,R}'],\n",
       "       ['hdj', 'm>838:A,pv}']], dtype='<U24')"
      ]
     },
     "execution_count": 15,
     "metadata": {},
     "output_type": "execute_result"
    }
   ],
   "source": [
    "\n",
    "rules"
   ]
  }
 ],
 "metadata": {
  "kernelspec": {
   "display_name": "base",
   "language": "python",
   "name": "python3"
  },
  "language_info": {
   "codemirror_mode": {
    "name": "ipython",
    "version": 3
   },
   "file_extension": ".py",
   "mimetype": "text/x-python",
   "name": "python",
   "nbconvert_exporter": "python",
   "pygments_lexer": "ipython3",
   "version": "3.10.12"
  }
 },
 "nbformat": 4,
 "nbformat_minor": 2
}
