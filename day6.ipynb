{
 "cells": [
  {
   "cell_type": "code",
   "execution_count": 1,
   "metadata": {},
   "outputs": [],
   "source": [
    "import pandas as pd\n",
    "import numpy as np"
   ]
  },
  {
   "cell_type": "code",
   "execution_count": 98,
   "metadata": {},
   "outputs": [
    {
     "name": "stdout",
     "output_type": "stream",
     "text": [
      "[['Time:', '40929790'], ['Distance:', '215106415051100']]\n"
     ]
    }
   ],
   "source": [
    "with open(\"input/day6.txt\", \"r\") as file:\n",
    "    contents = file.read()\n",
    "    \n",
    "df = contents.split('\\n')\n",
    "\n",
    "df = [row.split() for row in df]\n",
    "print(df)"
   ]
  },
  {
   "cell_type": "code",
   "execution_count": 99,
   "metadata": {},
   "outputs": [
    {
     "name": "stdout",
     "output_type": "stream",
     "text": [
      "['40929790']\n",
      "['215106415051100']\n"
     ]
    }
   ],
   "source": [
    "time = 0\n",
    "distance = 1\n",
    "\n",
    "race = 1\n",
    "czas = df[time][race:]\n",
    "print(df[time][race:])\n",
    "rekord = df[distance][race:]\n",
    "print(df[distance][race:])"
   ]
  },
  {
   "cell_type": "code",
   "execution_count": 100,
   "metadata": {},
   "outputs": [
    {
     "name": "stdout",
     "output_type": "stream",
     "text": [
      "1\n"
     ]
    }
   ],
   "source": [
    "wyscigow = len(df[time][1:])\n",
    "for race in range(1,wyscigow+1):\n",
    "    print(race)\n"
   ]
  },
  {
   "cell_type": "code",
   "execution_count": 107,
   "metadata": {},
   "outputs": [
    {
     "name": "stdout",
     "output_type": "stream",
     "text": [
      "100\n",
      "1000\n",
      "10000\n",
      "100000\n",
      "1000000\n",
      "10000000\n",
      "28545089\n",
      "wynik  28545089\n"
     ]
    }
   ],
   "source": [
    "odlelosci_od_czasu = []\n",
    "mozliwosci = []\n",
    "for race in range(wyscigow):\n",
    "    #dla kazdego czasu\n",
    "    for i in range(int(czas[race])+1):\n",
    "        if i in [100, 1000, 10000, 100000, 1000000, 10000000]:\n",
    "            print(i) #40 929 790:\n",
    "    # liczenie odleglosci \n",
    "        #odlelosci_od_czasu.append(int(czas[i])*int(rekord[i]))\n",
    "        mmps = int(i) # czas przytrzymania\n",
    "        pozostaly_czas = int(czas[race]) - mmps\n",
    "        #print('p_czas: ',pozostaly_czas)\n",
    "        #print('mmps: ',mmps)\n",
    "        \n",
    "        if pozostaly_czas*mmps > int(rekord[race]):\n",
    "           odlelosci_od_czasu.append(pozostaly_czas*mmps) \n",
    "\n",
    "    print(len(odlelosci_od_czasu))\n",
    "    mozliwosci.append(len(odlelosci_od_czasu))\n",
    "    odlelosci_od_czasu = []\n",
    "\n",
    "print('wynik ', np.prod(mozliwosci))\n"
   ]
  },
  {
   "cell_type": "markdown",
   "metadata": {},
   "source": [
    "funkcja kwadratowa\n",
    "# part 2 v2 (matematyka)"
   ]
  },
  {
   "cell_type": "code",
   "execution_count": null,
   "metadata": {},
   "outputs": [],
   "source": []
  },
  {
   "cell_type": "code",
   "execution_count": null,
   "metadata": {},
   "outputs": [],
   "source": []
  },
  {
   "cell_type": "code",
   "execution_count": null,
   "metadata": {},
   "outputs": [],
   "source": []
  },
  {
   "cell_type": "code",
   "execution_count": null,
   "metadata": {},
   "outputs": [],
   "source": []
  }
 ],
 "metadata": {
  "kernelspec": {
   "display_name": "base",
   "language": "python",
   "name": "python3"
  },
  "language_info": {
   "codemirror_mode": {
    "name": "ipython",
    "version": 3
   },
   "file_extension": ".py",
   "mimetype": "text/x-python",
   "name": "python",
   "nbconvert_exporter": "python",
   "pygments_lexer": "ipython3",
   "version": "3.11.5"
  }
 },
 "nbformat": 4,
 "nbformat_minor": 2
}
