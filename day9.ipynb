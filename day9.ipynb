{
 "cells": [
  {
   "cell_type": "code",
   "execution_count": 89,
   "metadata": {},
   "outputs": [],
   "source": [
    "import numpy as np"
   ]
  },
  {
   "cell_type": "code",
   "execution_count": 118,
   "metadata": {},
   "outputs": [],
   "source": [
    "with open(\"input/day9.txt\", \"r\") as file:\n",
    "    contents = file.read()"
   ]
  },
  {
   "cell_type": "code",
   "execution_count": 119,
   "metadata": {},
   "outputs": [],
   "source": [
    "data = []\n",
    "data = [row.split(\" \") for row in contents.split(\"\\n\")]\n",
    "data = np.asarray(data).astype(int)"
   ]
  },
  {
   "cell_type": "code",
   "execution_count": 120,
   "metadata": {},
   "outputs": [],
   "source": [
    "# dostaje liste i zwraca liste ktora jest roznica elementow w liscie i jest o jeden mniejsza\n",
    "def diff_list(list):\n",
    "    return [list[i + 1] - list[i] for i in range(len(list) - 1)]"
   ]
  },
  {
   "cell_type": "code",
   "execution_count": 121,
   "metadata": {},
   "outputs": [],
   "source": [
    "test_list = [1,   3,   6,  10,  15,  21]\n",
    "\n",
    "wszystkie_rowne0 = all(diff_list(diff_list(test_list)))"
   ]
  },
  {
   "cell_type": "code",
   "execution_count": 122,
   "metadata": {},
   "outputs": [
    {
     "name": "stdout",
     "output_type": "stream",
     "text": [
      "200/200\n",
      "wynik 1798691765\n"
     ]
    }
   ],
   "source": [
    "from IPython.display import clear_output\n",
    "wynik = 0\n",
    "i=1\n",
    "dl = len(data)\n",
    "for lista in data:\n",
    "    ostatnia_wartosc = [lista[-1]]\n",
    "\n",
    "\n",
    "\n",
    "    while any(lista):\n",
    "        lista = diff_list(lista)\n",
    "        ostatnia_wartosc.append(lista[-1])\n",
    "        # print(lista)\n",
    "\n",
    "    wynik += sum(ostatnia_wartosc)\n",
    "    # print('sumowanie:', ostatnia_wartosc)\n",
    "    print('suma', sum(ostatnia_wartosc))\n",
    "    clear_output(wait=False)\n",
    "    print(str(i)+'/'+str(dl))\n",
    "    i+=1\n",
    "\n",
    "print('wynik', wynik)"
   ]
  },
  {
   "cell_type": "markdown",
   "metadata": {},
   "source": [
    "PART 2"
   ]
  },
  {
   "cell_type": "code",
   "execution_count": 123,
   "metadata": {},
   "outputs": [],
   "source": [
    "# [10, 0, 2, 3]\n",
    "def diff(list):\n",
    "\n",
    "    wynik = 0\n",
    "    for i in range(len(list)-1, -1, -1):\n",
    "        wynik = list[i] - wynik\n",
    "    return wynik"
   ]
  },
  {
   "cell_type": "code",
   "execution_count": null,
   "metadata": {},
   "outputs": [],
   "source": []
  },
  {
   "cell_type": "code",
   "execution_count": 124,
   "metadata": {},
   "outputs": [
    {
     "name": "stdout",
     "output_type": "stream",
     "text": [
      "200/200\n",
      "wynik 1104\n"
     ]
    }
   ],
   "source": [
    "from IPython.display import clear_output\n",
    "wynik = 0\n",
    "i=1\n",
    "dl = len(data)\n",
    "for lista in data:\n",
    "    ostatnia_wartosc = [lista[0]]\n",
    "\n",
    "    while any(lista):\n",
    "        lista = diff_list(lista)\n",
    "        ostatnia_wartosc.append(lista[0])\n",
    "        #print(lista)\n",
    "\n",
    "    wynik += diff(ostatnia_wartosc)\n",
    "    # print('sumowanie:', ostatnia_wartosc)\n",
    "    # print('suma', diff(ostatnia_wartosc))\n",
    "    clear_output(wait=False)\n",
    "    print(str(i)+'/'+str(dl))\n",
    "    i+=1\n",
    "\n",
    "print('wynik', wynik)"
   ]
  },
  {
   "cell_type": "code",
   "execution_count": null,
   "metadata": {},
   "outputs": [],
   "source": []
  },
  {
   "cell_type": "code",
   "execution_count": null,
   "metadata": {},
   "outputs": [],
   "source": []
  }
 ],
 "metadata": {
  "kernelspec": {
   "display_name": "base",
   "language": "python",
   "name": "python3"
  },
  "language_info": {
   "codemirror_mode": {
    "name": "ipython",
    "version": 3
   },
   "file_extension": ".py",
   "mimetype": "text/x-python",
   "name": "python",
   "nbconvert_exporter": "python",
   "pygments_lexer": "ipython3",
   "version": "3.11.5"
  }
 },
 "nbformat": 4,
 "nbformat_minor": 2
}
