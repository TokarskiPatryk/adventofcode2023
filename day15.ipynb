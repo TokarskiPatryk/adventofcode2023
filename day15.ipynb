{
 "cells": [
  {
   "cell_type": "code",
   "execution_count": 2,
   "metadata": {},
   "outputs": [],
   "source": [
    "import numpy as np\n",
    "import string"
   ]
  },
  {
   "cell_type": "code",
   "execution_count": 31,
   "metadata": {},
   "outputs": [],
   "source": [
    "with open(\"input/test.txt\") as f:\n",
    "    df = [x for x in f.read().split(',')]"
   ]
  },
  {
   "cell_type": "code",
   "execution_count": 32,
   "metadata": {},
   "outputs": [
    {
     "data": {
      "text/plain": [
       "11"
      ]
     },
     "execution_count": 32,
     "metadata": {},
     "output_type": "execute_result"
    }
   ],
   "source": [
    "len(df)"
   ]
  },
  {
   "cell_type": "code",
   "execution_count": 36,
   "metadata": {},
   "outputs": [
    {
     "data": {
      "text/plain": [
       "52"
      ]
     },
     "execution_count": 36,
     "metadata": {},
     "output_type": "execute_result"
    }
   ],
   "source": [
    "def hash(text: str, value: np.int64 = 0):\n",
    "    for letter in text:\n",
    "        value = ((value + ord(letter))*17) % 256\n",
    "    return value\n",
    "\n",
    "hash(\"HASH\")"
   ]
  },
  {
   "cell_type": "code",
   "execution_count": 37,
   "metadata": {},
   "outputs": [
    {
     "name": "stdout",
     "output_type": "stream",
     "text": [
      "rn=1 30\n",
      "cm- 253\n",
      "qp=3 97\n",
      "cm=2 47\n",
      "qp- 14\n",
      "pc=4 180\n",
      "ot=9 9\n",
      "ab=5 197\n",
      "pc- 48\n",
      "pc=6 214\n",
      "ot=7 231\n",
      "1320\n"
     ]
    }
   ],
   "source": [
    "sum=0\n",
    "\n",
    "for line in df:\n",
    "    line = \n",
    "    wynik = hash(line)\n",
    "    sum += wynik\n",
    "    print(line, wynik)\n",
    "\n",
    "print(sum)"
   ]
  },
  {
   "cell_type": "code",
   "execution_count": 41,
   "metadata": {},
   "outputs": [
    {
     "name": "stdout",
     "output_type": "stream",
     "text": [
      "ar\n"
     ]
    }
   ],
   "source": [
    "\n",
    "\n",
    "input_string = \"ar=12\"\n",
    "result = extract_variable_name(input_string)\n",
    "print(result)"
   ]
  }
 ],
 "metadata": {
  "kernelspec": {
   "display_name": "base",
   "language": "python",
   "name": "python3"
  },
  "language_info": {
   "codemirror_mode": {
    "name": "ipython",
    "version": 3
   },
   "file_extension": ".py",
   "mimetype": "text/x-python",
   "name": "python",
   "nbconvert_exporter": "python",
   "pygments_lexer": "ipython3",
   "version": "3.11.5"
  }
 },
 "nbformat": 4,
 "nbformat_minor": 2
}
